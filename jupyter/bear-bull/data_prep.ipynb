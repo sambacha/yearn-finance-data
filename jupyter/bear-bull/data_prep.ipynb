{
 "cells": [
  {
   "cell_type": "code",
   "execution_count": null,
   "metadata": {},
   "outputs": [],
   "source": [
    "%load_ext autoreload\n",
    "%autoreload 2"
   ]
  },
  {
   "cell_type": "code",
   "execution_count": null,
   "metadata": {},
   "outputs": [],
   "source": [
    "import pandas as pd\n",
    "import lib"
   ]
  },
  {
   "cell_type": "markdown",
   "metadata": {},
   "source": [
    "### Load Data"
   ]
  },
  {
   "cell_type": "markdown",
   "metadata": {},
   "source": [
    "Trading on [Xetra](https://www.xetra.com/xetra-en/trading/Trading-calendar-and-trading-hours-22048) is from Mondays to Fridays from 9 until 17:30 CET."
   ]
  },
  {
   "cell_type": "markdown",
   "metadata": {},
   "source": [
    "Let's first process data from August first. "
   ]
  },
  {
   "cell_type": "code",
   "execution_count": null,
   "metadata": {},
   "outputs": [
    {
     "name": "stdout",
     "output_type": "stream",
     "text": [
      "../data/deutsche-boerse-xetra-pds/2019-04-19/*\n"
     ]
    }
   ],
   "source": [
    "df = lib.read_date_range(start_date='2019-01-01', end_date='2019-12-31')\n",
    "df.head()"
   ]
  },
  {
   "cell_type": "code",
   "execution_count": null,
   "metadata": {},
   "outputs": [],
   "source": [
    "df.shape"
   ]
  },
  {
   "cell_type": "markdown",
   "metadata": {},
   "source": [
    "Let's see the type of securities on offer. "
   ]
  },
  {
   "cell_type": "code",
   "execution_count": null,
   "metadata": {},
   "outputs": [],
   "source": [
    "df['SecurityType'].value_counts()"
   ]
  },
  {
   "cell_type": "markdown",
   "metadata": {},
   "source": [
    "We're only interested in common stock. "
   ]
  },
  {
   "cell_type": "code",
   "execution_count": null,
   "metadata": {},
   "outputs": [],
   "source": [
    "df = df[df.SecurityType == 'Common stock']"
   ]
  },
  {
   "cell_type": "code",
   "execution_count": null,
   "metadata": {},
   "outputs": [],
   "source": [
    "df.shape"
   ]
  },
  {
   "cell_type": "markdown",
   "metadata": {},
   "source": [
    "Next, we filter for the trading time, between 08:00 and 20:00. "
   ]
  },
  {
   "cell_type": "code",
   "execution_count": null,
   "metadata": {},
   "outputs": [],
   "source": [
    "df.set_index('CalcDateTime', drop=True, inplace=True)"
   ]
  },
  {
   "cell_type": "code",
   "execution_count": null,
   "metadata": {},
   "outputs": [],
   "source": [
    "df = df.between_time('08:00', '20:00')"
   ]
  },
  {
   "cell_type": "code",
   "execution_count": null,
   "metadata": {},
   "outputs": [],
   "source": [
    "df.shape"
   ]
  },
  {
   "cell_type": "markdown",
   "metadata": {},
   "source": [
    "Finally, we remove all auctions, i.e. TradedVolume = 0. "
   ]
  },
  {
   "cell_type": "code",
   "execution_count": null,
   "metadata": {},
   "outputs": [],
   "source": [
    "df = df[df.TradedVolume > 0]"
   ]
  },
  {
   "cell_type": "code",
   "execution_count": null,
   "metadata": {},
   "outputs": [],
   "source": [
    "df.shape"
   ]
  },
  {
   "cell_type": "markdown",
   "metadata": {},
   "source": [
    "Let's see the number of unique securities, sorted by volume traded. "
   ]
  },
  {
   "cell_type": "code",
   "execution_count": null,
   "metadata": {},
   "outputs": [],
   "source": [
    "grouped_securites = df.groupby(['Mnemonic', 'SecurityDesc']).sum()"
   ]
  },
  {
   "cell_type": "code",
   "execution_count": null,
   "metadata": {},
   "outputs": [],
   "source": [
    "grouped_securites.shape"
   ]
  },
  {
   "cell_type": "markdown",
   "metadata": {},
   "source": [
    "There are 946 unique securities. Let's sort them by volume traded. "
   ]
  },
  {
   "cell_type": "code",
   "execution_count": 25,
   "metadata": {},
   "outputs": [
    {
     "data": {
      "text/html": [
       "<div>\n",
       "<style scoped>\n",
       "    .dataframe tbody tr th:only-of-type {\n",
       "        vertical-align: middle;\n",
       "    }\n",
       "\n",
       "    .dataframe tbody tr th {\n",
       "        vertical-align: top;\n",
       "    }\n",
       "\n",
       "    .dataframe thead th {\n",
       "        text-align: right;\n",
       "    }\n",
       "</style>\n",
       "<table border=\"1\" class=\"dataframe\">\n",
       "  <thead>\n",
       "    <tr style=\"text-align: right;\">\n",
       "      <th></th>\n",
       "      <th></th>\n",
       "      <th>StartPrice</th>\n",
       "      <th>MaxPrice</th>\n",
       "      <th>MinPrice</th>\n",
       "      <th>EndPrice</th>\n",
       "      <th>TradedVolume</th>\n",
       "      <th>NumberOfTrades</th>\n",
       "    </tr>\n",
       "    <tr>\n",
       "      <th>Mnemonic</th>\n",
       "      <th>SecurityDesc</th>\n",
       "      <th></th>\n",
       "      <th></th>\n",
       "      <th></th>\n",
       "      <th></th>\n",
       "      <th></th>\n",
       "      <th></th>\n",
       "    </tr>\n",
       "  </thead>\n",
       "  <tbody>\n",
       "    <tr>\n",
       "      <th>DBK</th>\n",
       "      <th>DEUTSCHE BANK AG NA O.N.</th>\n",
       "      <td>5.963460e+05</td>\n",
       "      <td>5.967346e+05</td>\n",
       "      <td>5.959464e+05</td>\n",
       "      <td>5.963390e+05</td>\n",
       "      <td>3.009862e+09</td>\n",
       "      <td>2160011.0</td>\n",
       "    </tr>\n",
       "    <tr>\n",
       "      <th>DTE</th>\n",
       "      <th>DT.TELEKOM AG NA</th>\n",
       "      <td>1.096916e+06</td>\n",
       "      <td>1.097261e+06</td>\n",
       "      <td>1.096567e+06</td>\n",
       "      <td>1.096914e+06</td>\n",
       "      <td>2.133462e+09</td>\n",
       "      <td>1144762.0</td>\n",
       "    </tr>\n",
       "    <tr>\n",
       "      <th>SNH</th>\n",
       "      <th>STEINHOFF INT.HLDG.EO-,50</th>\n",
       "      <td>1.339673e+03</td>\n",
       "      <td>1.341808e+03</td>\n",
       "      <td>1.337258e+03</td>\n",
       "      <td>1.339460e+03</td>\n",
       "      <td>2.112372e+09</td>\n",
       "      <td>72991.0</td>\n",
       "    </tr>\n",
       "    <tr>\n",
       "      <th>CBK</th>\n",
       "      <th>COMMERZBANK AG</th>\n",
       "      <td>3.397013e+05</td>\n",
       "      <td>3.399209e+05</td>\n",
       "      <td>3.394780e+05</td>\n",
       "      <td>3.397011e+05</td>\n",
       "      <td>1.999202e+09</td>\n",
       "      <td>1149542.0</td>\n",
       "    </tr>\n",
       "    <tr>\n",
       "      <th>EOAN</th>\n",
       "      <th>E.ON SE NA O.N.</th>\n",
       "      <td>7.222737e+05</td>\n",
       "      <td>7.225034e+05</td>\n",
       "      <td>7.220414e+05</td>\n",
       "      <td>7.222732e+05</td>\n",
       "      <td>1.591527e+09</td>\n",
       "      <td>917812.0</td>\n",
       "    </tr>\n",
       "    <tr>\n",
       "      <th>LHA</th>\n",
       "      <th>LUFTHANSA AG VNA O.N.</th>\n",
       "      <td>7.910846e+05</td>\n",
       "      <td>7.916316e+05</td>\n",
       "      <td>7.905196e+05</td>\n",
       "      <td>7.910812e+05</td>\n",
       "      <td>1.427914e+09</td>\n",
       "      <td>1281523.0</td>\n",
       "    </tr>\n",
       "    <tr>\n",
       "      <th>IFX</th>\n",
       "      <th>INFINEON TECH.AG NA O.N.</th>\n",
       "      <td>1.521153e+06</td>\n",
       "      <td>1.521956e+06</td>\n",
       "      <td>1.520339e+06</td>\n",
       "      <td>1.521151e+06</td>\n",
       "      <td>1.266239e+09</td>\n",
       "      <td>1651415.0</td>\n",
       "    </tr>\n",
       "    <tr>\n",
       "      <th>DAI</th>\n",
       "      <th>DAIMLER AG NA O.N.</th>\n",
       "      <td>2.927073e+06</td>\n",
       "      <td>2.928782e+06</td>\n",
       "      <td>2.925333e+06</td>\n",
       "      <td>2.927042e+06</td>\n",
       "      <td>9.103711e+08</td>\n",
       "      <td>2460598.0</td>\n",
       "    </tr>\n",
       "    <tr>\n",
       "      <th>AT1</th>\n",
       "      <th>AROUNDTOWN EO-,01</th>\n",
       "      <td>3.982076e+05</td>\n",
       "      <td>3.983602e+05</td>\n",
       "      <td>3.980568e+05</td>\n",
       "      <td>3.982080e+05</td>\n",
       "      <td>8.453975e+08</td>\n",
       "      <td>530283.0</td>\n",
       "    </tr>\n",
       "    <tr>\n",
       "      <th>O2D</th>\n",
       "      <th>TELEFONICA DTLD HLDG NA</th>\n",
       "      <td>1.431061e+05</td>\n",
       "      <td>1.431433e+05</td>\n",
       "      <td>1.430693e+05</td>\n",
       "      <td>1.431069e+05</td>\n",
       "      <td>8.292709e+08</td>\n",
       "      <td>286114.0</td>\n",
       "    </tr>\n",
       "  </tbody>\n",
       "</table>\n",
       "</div>"
      ],
      "text/plain": [
       "                                      StartPrice      MaxPrice      MinPrice  \\\n",
       "Mnemonic SecurityDesc                                                          \n",
       "DBK      DEUTSCHE BANK AG NA O.N.   5.963460e+05  5.967346e+05  5.959464e+05   \n",
       "DTE      DT.TELEKOM AG NA           1.096916e+06  1.097261e+06  1.096567e+06   \n",
       "SNH      STEINHOFF INT.HLDG.EO-,50  1.339673e+03  1.341808e+03  1.337258e+03   \n",
       "CBK      COMMERZBANK AG             3.397013e+05  3.399209e+05  3.394780e+05   \n",
       "EOAN     E.ON SE NA O.N.            7.222737e+05  7.225034e+05  7.220414e+05   \n",
       "LHA      LUFTHANSA AG VNA O.N.      7.910846e+05  7.916316e+05  7.905196e+05   \n",
       "IFX      INFINEON TECH.AG NA O.N.   1.521153e+06  1.521956e+06  1.520339e+06   \n",
       "DAI      DAIMLER AG NA O.N.         2.927073e+06  2.928782e+06  2.925333e+06   \n",
       "AT1      AROUNDTOWN EO-,01          3.982076e+05  3.983602e+05  3.980568e+05   \n",
       "O2D      TELEFONICA DTLD HLDG NA    1.431061e+05  1.431433e+05  1.430693e+05   \n",
       "\n",
       "                                        EndPrice  TradedVolume  NumberOfTrades  \n",
       "Mnemonic SecurityDesc                                                           \n",
       "DBK      DEUTSCHE BANK AG NA O.N.   5.963390e+05  3.009862e+09       2160011.0  \n",
       "DTE      DT.TELEKOM AG NA           1.096914e+06  2.133462e+09       1144762.0  \n",
       "SNH      STEINHOFF INT.HLDG.EO-,50  1.339460e+03  2.112372e+09         72991.0  \n",
       "CBK      COMMERZBANK AG             3.397011e+05  1.999202e+09       1149542.0  \n",
       "EOAN     E.ON SE NA O.N.            7.222732e+05  1.591527e+09        917812.0  \n",
       "LHA      LUFTHANSA AG VNA O.N.      7.910812e+05  1.427914e+09       1281523.0  \n",
       "IFX      INFINEON TECH.AG NA O.N.   1.521151e+06  1.266239e+09       1651415.0  \n",
       "DAI      DAIMLER AG NA O.N.         2.927042e+06  9.103711e+08       2460598.0  \n",
       "AT1      AROUNDTOWN EO-,01          3.982080e+05  8.453975e+08        530283.0  \n",
       "O2D      TELEFONICA DTLD HLDG NA    1.431069e+05  8.292709e+08        286114.0  "
      ]
     },
     "execution_count": 25,
     "metadata": {},
     "output_type": "execute_result"
    }
   ],
   "source": [
    "sorted_grouped_securites = grouped_securites.sort_values('TradedVolume', ascending=False)\n",
    "sorted_grouped_securites.head(10)"
   ]
  },
  {
   "cell_type": "markdown",
   "metadata": {},
   "source": [
    "The current analysis will be limited to the Top 100 stocks. "
   ]
  },
  {
   "cell_type": "code",
   "execution_count": 26,
   "metadata": {
    "scrolled": true
   },
   "outputs": [],
   "source": [
    "securities = list(sorted_grouped_securites.index.get_level_values('Mnemonic')[:100])"
   ]
  },
  {
   "cell_type": "code",
   "execution_count": null,
   "metadata": {},
   "outputs": [],
   "source": [
    "import pickle\n",
    "with open(\"securities.txt\", \"wb\") as f:   #Pickling\n",
    "    pickle.dump(securities, f)"
   ]
  },
  {
   "cell_type": "markdown",
   "metadata": {},
   "source": [
    "Now we limit our dataset to this 100 securities. "
   ]
  },
  {
   "cell_type": "code",
   "execution_count": null,
   "metadata": {},
   "outputs": [],
   "source": [
    "df = df[df['Mnemonic'].isin(securities)]"
   ]
  },
  {
   "cell_type": "code",
   "execution_count": null,
   "metadata": {},
   "outputs": [],
   "source": [
    "df.shape"
   ]
  },
  {
   "cell_type": "code",
   "execution_count": null,
   "metadata": {},
   "outputs": [],
   "source": [
    "df.head()"
   ]
  },
  {
   "cell_type": "markdown",
   "metadata": {},
   "source": [
    "Sweet! Exporting this to parquet. "
   ]
  },
  {
   "cell_type": "code",
   "execution_count": 30,
   "metadata": {},
   "outputs": [],
   "source": [
    "df.to_parquet('../data/processed_data/20200904/top100stocks_cleaned_2019.parquet')"
   ]
  },
  {
   "cell_type": "code",
   "execution_count": null,
   "metadata": {},
   "outputs": [],
   "source": []
  }
 ],
 "metadata": {
  "environment": {
   "name": "pytorch-gpu.1-4.m46",
   "type": "gcloud",
   "uri": "gcr.io/deeplearning-platform-release/pytorch-gpu.1-4:m46"
  },
  "kernelspec": {
   "display_name": "Python 3",
   "language": "python",
   "name": "python3"
  },
  "language_info": {
   "codemirror_mode": {
    "name": "ipython",
    "version": 3
   },
   "file_extension": ".py",
   "mimetype": "text/x-python",
   "name": "python",
   "nbconvert_exporter": "python",
   "pygments_lexer": "ipython3",
   "version": "3.7.8"
  }
 },
 "nbformat": 4,
 "nbformat_minor": 4
}
