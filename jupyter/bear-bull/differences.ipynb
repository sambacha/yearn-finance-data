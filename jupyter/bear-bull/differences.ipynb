{
 "cells": [
  {
   "cell_type": "code",
   "execution_count": 1,
   "metadata": {},
   "outputs": [],
   "source": [
    "%load_ext autoreload\n",
    "%autoreload 2"
   ]
  },
  {
   "cell_type": "code",
   "execution_count": 2,
   "metadata": {},
   "outputs": [],
   "source": [
    "import pandas as pd\n",
    "import glob\n",
    "import lib\n",
    "import plotly.express as px\n",
    "import plotly.graph_objects as go\n",
    "from plotly.subplots import make_subplots"
   ]
  },
  {
   "cell_type": "markdown",
   "metadata": {},
   "source": [
    "### Load Data"
   ]
  },
  {
   "cell_type": "markdown",
   "metadata": {},
   "source": [
    "Trading on [Xetra](https://www.xetra.com/xetra-en/trading/Trading-calendar-and-trading-hours-22048) is from Mondays to Fridays from 9 until 17:30 CET."
   ]
  },
  {
   "cell_type": "code",
   "execution_count": 3,
   "metadata": {},
   "outputs": [
    {
     "data": {
      "text/html": [
       "<div>\n",
       "<style scoped>\n",
       "    .dataframe tbody tr th:only-of-type {\n",
       "        vertical-align: middle;\n",
       "    }\n",
       "\n",
       "    .dataframe tbody tr th {\n",
       "        vertical-align: top;\n",
       "    }\n",
       "\n",
       "    .dataframe thead th {\n",
       "        text-align: right;\n",
       "    }\n",
       "</style>\n",
       "<table border=\"1\" class=\"dataframe\">\n",
       "  <thead>\n",
       "    <tr style=\"text-align: right;\">\n",
       "      <th></th>\n",
       "      <th>ISIN</th>\n",
       "      <th>Mnemonic</th>\n",
       "      <th>SecurityDesc</th>\n",
       "      <th>SecurityType</th>\n",
       "      <th>Currency</th>\n",
       "      <th>SecurityID</th>\n",
       "      <th>StartPrice</th>\n",
       "      <th>MaxPrice</th>\n",
       "      <th>MinPrice</th>\n",
       "      <th>EndPrice</th>\n",
       "      <th>TradedVolume</th>\n",
       "      <th>NumberOfTrades</th>\n",
       "      <th>CalcDateTime</th>\n",
       "    </tr>\n",
       "  </thead>\n",
       "  <tbody>\n",
       "    <tr>\n",
       "      <th>83</th>\n",
       "      <td>DE0006062144</td>\n",
       "      <td>1COV</td>\n",
       "      <td>COVESTRO AG  O.N.</td>\n",
       "      <td>Common stock</td>\n",
       "      <td>EUR</td>\n",
       "      <td>2505008</td>\n",
       "      <td>33.02</td>\n",
       "      <td>33.140</td>\n",
       "      <td>33.02</td>\n",
       "      <td>33.13</td>\n",
       "      <td>11421.0</td>\n",
       "      <td>21.0</td>\n",
       "      <td>2020-08-03 07:00:00</td>\n",
       "    </tr>\n",
       "    <tr>\n",
       "      <th>152</th>\n",
       "      <td>DE000TRAT0N7</td>\n",
       "      <td>8TRA</td>\n",
       "      <td>TRATON SE   INH O.N.</td>\n",
       "      <td>Common stock</td>\n",
       "      <td>EUR</td>\n",
       "      <td>4197490</td>\n",
       "      <td>16.10</td>\n",
       "      <td>16.234</td>\n",
       "      <td>16.00</td>\n",
       "      <td>16.20</td>\n",
       "      <td>3494.0</td>\n",
       "      <td>11.0</td>\n",
       "      <td>2020-08-03 07:00:00</td>\n",
       "    </tr>\n",
       "    <tr>\n",
       "      <th>44</th>\n",
       "      <td>DE0005093108</td>\n",
       "      <td>AAD</td>\n",
       "      <td>AMADEUS FIRE AG</td>\n",
       "      <td>Common stock</td>\n",
       "      <td>EUR</td>\n",
       "      <td>2504879</td>\n",
       "      <td>98.30</td>\n",
       "      <td>98.300</td>\n",
       "      <td>97.80</td>\n",
       "      <td>97.80</td>\n",
       "      <td>366.0</td>\n",
       "      <td>5.0</td>\n",
       "      <td>2020-08-03 07:00:00</td>\n",
       "    </tr>\n",
       "    <tr>\n",
       "      <th>132</th>\n",
       "      <td>LU1250154413</td>\n",
       "      <td>ADJ</td>\n",
       "      <td>ADO PROPERTIES S.A. NPV</td>\n",
       "      <td>Common stock</td>\n",
       "      <td>EUR</td>\n",
       "      <td>2506119</td>\n",
       "      <td>23.90</td>\n",
       "      <td>24.100</td>\n",
       "      <td>23.90</td>\n",
       "      <td>24.10</td>\n",
       "      <td>2702.0</td>\n",
       "      <td>11.0</td>\n",
       "      <td>2020-08-03 07:00:00</td>\n",
       "    </tr>\n",
       "    <tr>\n",
       "      <th>10</th>\n",
       "      <td>DE000A1EWWW0</td>\n",
       "      <td>ADS</td>\n",
       "      <td>ADIDAS AG NA O.N.</td>\n",
       "      <td>Common stock</td>\n",
       "      <td>EUR</td>\n",
       "      <td>2504471</td>\n",
       "      <td>234.80</td>\n",
       "      <td>234.900</td>\n",
       "      <td>234.00</td>\n",
       "      <td>234.30</td>\n",
       "      <td>11917.0</td>\n",
       "      <td>55.0</td>\n",
       "      <td>2020-08-03 07:00:00</td>\n",
       "    </tr>\n",
       "  </tbody>\n",
       "</table>\n",
       "</div>"
      ],
      "text/plain": [
       "             ISIN Mnemonic             SecurityDesc  SecurityType Currency  \\\n",
       "83   DE0006062144     1COV        COVESTRO AG  O.N.  Common stock      EUR   \n",
       "152  DE000TRAT0N7     8TRA     TRATON SE   INH O.N.  Common stock      EUR   \n",
       "44   DE0005093108      AAD          AMADEUS FIRE AG  Common stock      EUR   \n",
       "132  LU1250154413      ADJ  ADO PROPERTIES S.A. NPV  Common stock      EUR   \n",
       "10   DE000A1EWWW0      ADS        ADIDAS AG NA O.N.  Common stock      EUR   \n",
       "\n",
       "    SecurityID  StartPrice  MaxPrice  MinPrice  EndPrice  TradedVolume  \\\n",
       "83     2505008       33.02    33.140     33.02     33.13       11421.0   \n",
       "152    4197490       16.10    16.234     16.00     16.20        3494.0   \n",
       "44     2504879       98.30    98.300     97.80     97.80         366.0   \n",
       "132    2506119       23.90    24.100     23.90     24.10        2702.0   \n",
       "10     2504471      234.80   234.900    234.00    234.30       11917.0   \n",
       "\n",
       "     NumberOfTrades        CalcDateTime  \n",
       "83             21.0 2020-08-03 07:00:00  \n",
       "152            11.0 2020-08-03 07:00:00  \n",
       "44              5.0 2020-08-03 07:00:00  \n",
       "132            11.0 2020-08-03 07:00:00  \n",
       "10             55.0 2020-08-03 07:00:00  "
      ]
     },
     "execution_count": 3,
     "metadata": {},
     "output_type": "execute_result"
    }
   ],
   "source": [
    "df = lib.read_date_range(start_date='2020-08-01')\n",
    "df.head()"
   ]
  },
  {
   "cell_type": "code",
   "execution_count": 4,
   "metadata": {},
   "outputs": [
    {
     "data": {
      "text/plain": [
       "(1281239, 13)"
      ]
     },
     "execution_count": 4,
     "metadata": {},
     "output_type": "execute_result"
    }
   ],
   "source": [
    "df.shape"
   ]
  },
  {
   "cell_type": "code",
   "execution_count": 29,
   "metadata": {},
   "outputs": [
    {
     "data": {
      "text/plain": [
       "555725406"
      ]
     },
     "execution_count": 29,
     "metadata": {},
     "output_type": "execute_result"
    }
   ],
   "source": [
    "import sys\n",
    "sys.getsizeof(df)"
   ]
  },
  {
   "cell_type": "code",
   "execution_count": 10,
   "metadata": {},
   "outputs": [
    {
     "data": {
      "application/vnd.plotly.v1+json": {
       "config": {
        "plotlyServerURL": "https://plot.ly"
       },
       "data": [
        {
         "name": "EndPrice",
         "type": "scatter",
         "x": [
          "2020-08-03T00:00:00",
          "2020-08-04T00:00:00",
          "2020-08-05T00:00:00",
          "2020-08-06T00:00:00",
          "2020-08-07T00:00:00",
          "2020-08-10T00:00:00",
          "2020-08-11T00:00:00",
          "2020-08-12T00:00:00",
          "2020-08-13T00:00:00",
          "2020-08-14T00:00:00",
          "2020-08-17T00:00:00",
          "2020-08-18T00:00:00",
          "2020-08-19T00:00:00",
          "2020-08-20T00:00:00",
          "2020-08-21T00:00:00",
          "2020-08-24T00:00:00"
         ],
         "y": [
          56.21,
          58.14,
          56.13,
          55.23,
          54.9,
          55.35,
          58.54,
          58.87,
          58.28,
          58.22,
          57.88,
          57.56,
          58.25,
          57.39,
          56.81,
          58.25
         ]
        },
        {
         "marker": {
          "color": "blue"
         },
         "name": "Volume",
         "opacity": 0.3,
         "type": "bar",
         "x": [
          "2020-08-03T00:00:00",
          "2020-08-04T00:00:00",
          "2020-08-05T00:00:00",
          "2020-08-06T00:00:00",
          "2020-08-07T00:00:00",
          "2020-08-10T00:00:00",
          "2020-08-11T00:00:00",
          "2020-08-12T00:00:00",
          "2020-08-13T00:00:00",
          "2020-08-14T00:00:00",
          "2020-08-17T00:00:00",
          "2020-08-18T00:00:00",
          "2020-08-19T00:00:00",
          "2020-08-20T00:00:00",
          "2020-08-21T00:00:00",
          "2020-08-24T00:00:00"
         ],
         "xaxis": "x",
         "y": [
          1812786,
          1873398,
          3067112,
          2453738,
          1984567,
          1367342,
          3142904,
          1663294,
          1025918,
          1131446,
          829378,
          1148139,
          1224278,
          1021586,
          1395089,
          1591298
         ],
         "yaxis": "y2"
        }
       ],
       "layout": {
        "template": {
         "data": {
          "bar": [
           {
            "error_x": {
             "color": "#2a3f5f"
            },
            "error_y": {
             "color": "#2a3f5f"
            },
            "marker": {
             "line": {
              "color": "#E5ECF6",
              "width": 0.5
             }
            },
            "type": "bar"
           }
          ],
          "barpolar": [
           {
            "marker": {
             "line": {
              "color": "#E5ECF6",
              "width": 0.5
             }
            },
            "type": "barpolar"
           }
          ],
          "carpet": [
           {
            "aaxis": {
             "endlinecolor": "#2a3f5f",
             "gridcolor": "white",
             "linecolor": "white",
             "minorgridcolor": "white",
             "startlinecolor": "#2a3f5f"
            },
            "baxis": {
             "endlinecolor": "#2a3f5f",
             "gridcolor": "white",
             "linecolor": "white",
             "minorgridcolor": "white",
             "startlinecolor": "#2a3f5f"
            },
            "type": "carpet"
           }
          ],
          "choropleth": [
           {
            "colorbar": {
             "outlinewidth": 0,
             "ticks": ""
            },
            "type": "choropleth"
           }
          ],
          "contour": [
           {
            "colorbar": {
             "outlinewidth": 0,
             "ticks": ""
            },
            "colorscale": [
             [
              0,
              "#0d0887"
             ],
             [
              0.1111111111111111,
              "#46039f"
             ],
             [
              0.2222222222222222,
              "#7201a8"
             ],
             [
              0.3333333333333333,
              "#9c179e"
             ],
             [
              0.4444444444444444,
              "#bd3786"
             ],
             [
              0.5555555555555556,
              "#d8576b"
             ],
             [
              0.6666666666666666,
              "#ed7953"
             ],
             [
              0.7777777777777778,
              "#fb9f3a"
             ],
             [
              0.8888888888888888,
              "#fdca26"
             ],
             [
              1,
              "#f0f921"
             ]
            ],
            "type": "contour"
           }
          ],
          "contourcarpet": [
           {
            "colorbar": {
             "outlinewidth": 0,
             "ticks": ""
            },
            "type": "contourcarpet"
           }
          ],
          "heatmap": [
           {
            "colorbar": {
             "outlinewidth": 0,
             "ticks": ""
            },
            "colorscale": [
             [
              0,
              "#0d0887"
             ],
             [
              0.1111111111111111,
              "#46039f"
             ],
             [
              0.2222222222222222,
              "#7201a8"
             ],
             [
              0.3333333333333333,
              "#9c179e"
             ],
             [
              0.4444444444444444,
              "#bd3786"
             ],
             [
              0.5555555555555556,
              "#d8576b"
             ],
             [
              0.6666666666666666,
              "#ed7953"
             ],
             [
              0.7777777777777778,
              "#fb9f3a"
             ],
             [
              0.8888888888888888,
              "#fdca26"
             ],
             [
              1,
              "#f0f921"
             ]
            ],
            "type": "heatmap"
           }
          ],
          "heatmapgl": [
           {
            "colorbar": {
             "outlinewidth": 0,
             "ticks": ""
            },
            "colorscale": [
             [
              0,
              "#0d0887"
             ],
             [
              0.1111111111111111,
              "#46039f"
             ],
             [
              0.2222222222222222,
              "#7201a8"
             ],
             [
              0.3333333333333333,
              "#9c179e"
             ],
             [
              0.4444444444444444,
              "#bd3786"
             ],
             [
              0.5555555555555556,
              "#d8576b"
             ],
             [
              0.6666666666666666,
              "#ed7953"
             ],
             [
              0.7777777777777778,
              "#fb9f3a"
             ],
             [
              0.8888888888888888,
              "#fdca26"
             ],
             [
              1,
              "#f0f921"
             ]
            ],
            "type": "heatmapgl"
           }
          ],
          "histogram": [
           {
            "marker": {
             "colorbar": {
              "outlinewidth": 0,
              "ticks": ""
             }
            },
            "type": "histogram"
           }
          ],
          "histogram2d": [
           {
            "colorbar": {
             "outlinewidth": 0,
             "ticks": ""
            },
            "colorscale": [
             [
              0,
              "#0d0887"
             ],
             [
              0.1111111111111111,
              "#46039f"
             ],
             [
              0.2222222222222222,
              "#7201a8"
             ],
             [
              0.3333333333333333,
              "#9c179e"
             ],
             [
              0.4444444444444444,
              "#bd3786"
             ],
             [
              0.5555555555555556,
              "#d8576b"
             ],
             [
              0.6666666666666666,
              "#ed7953"
             ],
             [
              0.7777777777777778,
              "#fb9f3a"
             ],
             [
              0.8888888888888888,
              "#fdca26"
             ],
             [
              1,
              "#f0f921"
             ]
            ],
            "type": "histogram2d"
           }
          ],
          "histogram2dcontour": [
           {
            "colorbar": {
             "outlinewidth": 0,
             "ticks": ""
            },
            "colorscale": [
             [
              0,
              "#0d0887"
             ],
             [
              0.1111111111111111,
              "#46039f"
             ],
             [
              0.2222222222222222,
              "#7201a8"
             ],
             [
              0.3333333333333333,
              "#9c179e"
             ],
             [
              0.4444444444444444,
              "#bd3786"
             ],
             [
              0.5555555555555556,
              "#d8576b"
             ],
             [
              0.6666666666666666,
              "#ed7953"
             ],
             [
              0.7777777777777778,
              "#fb9f3a"
             ],
             [
              0.8888888888888888,
              "#fdca26"
             ],
             [
              1,
              "#f0f921"
             ]
            ],
            "type": "histogram2dcontour"
           }
          ],
          "mesh3d": [
           {
            "colorbar": {
             "outlinewidth": 0,
             "ticks": ""
            },
            "type": "mesh3d"
           }
          ],
          "parcoords": [
           {
            "line": {
             "colorbar": {
              "outlinewidth": 0,
              "ticks": ""
             }
            },
            "type": "parcoords"
           }
          ],
          "pie": [
           {
            "automargin": true,
            "type": "pie"
           }
          ],
          "scatter": [
           {
            "marker": {
             "colorbar": {
              "outlinewidth": 0,
              "ticks": ""
             }
            },
            "type": "scatter"
           }
          ],
          "scatter3d": [
           {
            "line": {
             "colorbar": {
              "outlinewidth": 0,
              "ticks": ""
             }
            },
            "marker": {
             "colorbar": {
              "outlinewidth": 0,
              "ticks": ""
             }
            },
            "type": "scatter3d"
           }
          ],
          "scattercarpet": [
           {
            "marker": {
             "colorbar": {
              "outlinewidth": 0,
              "ticks": ""
             }
            },
            "type": "scattercarpet"
           }
          ],
          "scattergeo": [
           {
            "marker": {
             "colorbar": {
              "outlinewidth": 0,
              "ticks": ""
             }
            },
            "type": "scattergeo"
           }
          ],
          "scattergl": [
           {
            "marker": {
             "colorbar": {
              "outlinewidth": 0,
              "ticks": ""
             }
            },
            "type": "scattergl"
           }
          ],
          "scattermapbox": [
           {
            "marker": {
             "colorbar": {
              "outlinewidth": 0,
              "ticks": ""
             }
            },
            "type": "scattermapbox"
           }
          ],
          "scatterpolar": [
           {
            "marker": {
             "colorbar": {
              "outlinewidth": 0,
              "ticks": ""
             }
            },
            "type": "scatterpolar"
           }
          ],
          "scatterpolargl": [
           {
            "marker": {
             "colorbar": {
              "outlinewidth": 0,
              "ticks": ""
             }
            },
            "type": "scatterpolargl"
           }
          ],
          "scatterternary": [
           {
            "marker": {
             "colorbar": {
              "outlinewidth": 0,
              "ticks": ""
             }
            },
            "type": "scatterternary"
           }
          ],
          "surface": [
           {
            "colorbar": {
             "outlinewidth": 0,
             "ticks": ""
            },
            "colorscale": [
             [
              0,
              "#0d0887"
             ],
             [
              0.1111111111111111,
              "#46039f"
             ],
             [
              0.2222222222222222,
              "#7201a8"
             ],
             [
              0.3333333333333333,
              "#9c179e"
             ],
             [
              0.4444444444444444,
              "#bd3786"
             ],
             [
              0.5555555555555556,
              "#d8576b"
             ],
             [
              0.6666666666666666,
              "#ed7953"
             ],
             [
              0.7777777777777778,
              "#fb9f3a"
             ],
             [
              0.8888888888888888,
              "#fdca26"
             ],
             [
              1,
              "#f0f921"
             ]
            ],
            "type": "surface"
           }
          ],
          "table": [
           {
            "cells": {
             "fill": {
              "color": "#EBF0F8"
             },
             "line": {
              "color": "white"
             }
            },
            "header": {
             "fill": {
              "color": "#C8D4E3"
             },
             "line": {
              "color": "white"
             }
            },
            "type": "table"
           }
          ]
         },
         "layout": {
          "annotationdefaults": {
           "arrowcolor": "#2a3f5f",
           "arrowhead": 0,
           "arrowwidth": 1
          },
          "coloraxis": {
           "colorbar": {
            "outlinewidth": 0,
            "ticks": ""
           }
          },
          "colorscale": {
           "diverging": [
            [
             0,
             "#8e0152"
            ],
            [
             0.1,
             "#c51b7d"
            ],
            [
             0.2,
             "#de77ae"
            ],
            [
             0.3,
             "#f1b6da"
            ],
            [
             0.4,
             "#fde0ef"
            ],
            [
             0.5,
             "#f7f7f7"
            ],
            [
             0.6,
             "#e6f5d0"
            ],
            [
             0.7,
             "#b8e186"
            ],
            [
             0.8,
             "#7fbc41"
            ],
            [
             0.9,
             "#4d9221"
            ],
            [
             1,
             "#276419"
            ]
           ],
           "sequential": [
            [
             0,
             "#0d0887"
            ],
            [
             0.1111111111111111,
             "#46039f"
            ],
            [
             0.2222222222222222,
             "#7201a8"
            ],
            [
             0.3333333333333333,
             "#9c179e"
            ],
            [
             0.4444444444444444,
             "#bd3786"
            ],
            [
             0.5555555555555556,
             "#d8576b"
            ],
            [
             0.6666666666666666,
             "#ed7953"
            ],
            [
             0.7777777777777778,
             "#fb9f3a"
            ],
            [
             0.8888888888888888,
             "#fdca26"
            ],
            [
             1,
             "#f0f921"
            ]
           ],
           "sequentialminus": [
            [
             0,
             "#0d0887"
            ],
            [
             0.1111111111111111,
             "#46039f"
            ],
            [
             0.2222222222222222,
             "#7201a8"
            ],
            [
             0.3333333333333333,
             "#9c179e"
            ],
            [
             0.4444444444444444,
             "#bd3786"
            ],
            [
             0.5555555555555556,
             "#d8576b"
            ],
            [
             0.6666666666666666,
             "#ed7953"
            ],
            [
             0.7777777777777778,
             "#fb9f3a"
            ],
            [
             0.8888888888888888,
             "#fdca26"
            ],
            [
             1,
             "#f0f921"
            ]
           ]
          },
          "colorway": [
           "#636efa",
           "#EF553B",
           "#00cc96",
           "#ab63fa",
           "#FFA15A",
           "#19d3f3",
           "#FF6692",
           "#B6E880",
           "#FF97FF",
           "#FECB52"
          ],
          "font": {
           "color": "#2a3f5f"
          },
          "geo": {
           "bgcolor": "white",
           "lakecolor": "white",
           "landcolor": "#E5ECF6",
           "showlakes": true,
           "showland": true,
           "subunitcolor": "white"
          },
          "hoverlabel": {
           "align": "left"
          },
          "hovermode": "closest",
          "mapbox": {
           "style": "light"
          },
          "paper_bgcolor": "white",
          "plot_bgcolor": "#E5ECF6",
          "polar": {
           "angularaxis": {
            "gridcolor": "white",
            "linecolor": "white",
            "ticks": ""
           },
           "bgcolor": "#E5ECF6",
           "radialaxis": {
            "gridcolor": "white",
            "linecolor": "white",
            "ticks": ""
           }
          },
          "scene": {
           "xaxis": {
            "backgroundcolor": "#E5ECF6",
            "gridcolor": "white",
            "gridwidth": 2,
            "linecolor": "white",
            "showbackground": true,
            "ticks": "",
            "zerolinecolor": "white"
           },
           "yaxis": {
            "backgroundcolor": "#E5ECF6",
            "gridcolor": "white",
            "gridwidth": 2,
            "linecolor": "white",
            "showbackground": true,
            "ticks": "",
            "zerolinecolor": "white"
           },
           "zaxis": {
            "backgroundcolor": "#E5ECF6",
            "gridcolor": "white",
            "gridwidth": 2,
            "linecolor": "white",
            "showbackground": true,
            "ticks": "",
            "zerolinecolor": "white"
           }
          },
          "shapedefaults": {
           "line": {
            "color": "#2a3f5f"
           }
          },
          "ternary": {
           "aaxis": {
            "gridcolor": "white",
            "linecolor": "white",
            "ticks": ""
           },
           "baxis": {
            "gridcolor": "white",
            "linecolor": "white",
            "ticks": ""
           },
           "bgcolor": "#E5ECF6",
           "caxis": {
            "gridcolor": "white",
            "linecolor": "white",
            "ticks": ""
           }
          },
          "title": {
           "x": 0.05
          },
          "xaxis": {
           "automargin": true,
           "gridcolor": "white",
           "linecolor": "white",
           "ticks": "",
           "title": {
            "standoff": 15
           },
           "zerolinecolor": "white",
           "zerolinewidth": 2
          },
          "yaxis": {
           "automargin": true,
           "gridcolor": "white",
           "linecolor": "white",
           "ticks": "",
           "title": {
            "standoff": 15
           },
           "zerolinecolor": "white",
           "zerolinewidth": 2
          }
         }
        },
        "title": {
         "text": "BMW, sampled D"
        },
        "xaxis": {
         "anchor": "y",
         "domain": [
          0,
          0.94
         ]
        },
        "yaxis": {
         "anchor": "x",
         "domain": [
          0,
          1
         ]
        },
        "yaxis2": {
         "anchor": "x",
         "overlaying": "y",
         "side": "right"
        }
       }
      },
      "text/html": [
       "<div>\n",
       "        \n",
       "        \n",
       "            <div id=\"1601cc56-ef07-4900-87aa-bbf383b4c1b0\" class=\"plotly-graph-div\" style=\"height:525px; width:100%;\"></div>\n",
       "            <script type=\"text/javascript\">\n",
       "                require([\"plotly\"], function(Plotly) {\n",
       "                    window.PLOTLYENV=window.PLOTLYENV || {};\n",
       "                    \n",
       "                if (document.getElementById(\"1601cc56-ef07-4900-87aa-bbf383b4c1b0\")) {\n",
       "                    Plotly.newPlot(\n",
       "                        '1601cc56-ef07-4900-87aa-bbf383b4c1b0',\n",
       "                        [{\"name\": \"EndPrice\", \"type\": \"scatter\", \"x\": [\"2020-08-03T00:00:00\", \"2020-08-04T00:00:00\", \"2020-08-05T00:00:00\", \"2020-08-06T00:00:00\", \"2020-08-07T00:00:00\", \"2020-08-10T00:00:00\", \"2020-08-11T00:00:00\", \"2020-08-12T00:00:00\", \"2020-08-13T00:00:00\", \"2020-08-14T00:00:00\", \"2020-08-17T00:00:00\", \"2020-08-18T00:00:00\", \"2020-08-19T00:00:00\", \"2020-08-20T00:00:00\", \"2020-08-21T00:00:00\", \"2020-08-24T00:00:00\"], \"y\": [56.21, 58.14, 56.13, 55.23, 54.9, 55.35, 58.54, 58.87, 58.28, 58.22, 57.88, 57.56, 58.25, 57.39, 56.81, 58.25]}, {\"marker\": {\"color\": \"blue\"}, \"name\": \"Volume\", \"opacity\": 0.3, \"type\": \"bar\", \"x\": [\"2020-08-03T00:00:00\", \"2020-08-04T00:00:00\", \"2020-08-05T00:00:00\", \"2020-08-06T00:00:00\", \"2020-08-07T00:00:00\", \"2020-08-10T00:00:00\", \"2020-08-11T00:00:00\", \"2020-08-12T00:00:00\", \"2020-08-13T00:00:00\", \"2020-08-14T00:00:00\", \"2020-08-17T00:00:00\", \"2020-08-18T00:00:00\", \"2020-08-19T00:00:00\", \"2020-08-20T00:00:00\", \"2020-08-21T00:00:00\", \"2020-08-24T00:00:00\"], \"xaxis\": \"x\", \"y\": [1812786.0, 1873398.0, 3067112.0, 2453738.0, 1984567.0, 1367342.0, 3142904.0, 1663294.0, 1025918.0, 1131446.0, 829378.0, 1148139.0, 1224278.0, 1021586.0, 1395089.0, 1591298.0], \"yaxis\": \"y2\"}],\n",
       "                        {\"template\": {\"data\": {\"bar\": [{\"error_x\": {\"color\": \"#2a3f5f\"}, \"error_y\": {\"color\": \"#2a3f5f\"}, \"marker\": {\"line\": {\"color\": \"#E5ECF6\", \"width\": 0.5}}, \"type\": \"bar\"}], \"barpolar\": [{\"marker\": {\"line\": {\"color\": \"#E5ECF6\", \"width\": 0.5}}, \"type\": \"barpolar\"}], \"carpet\": [{\"aaxis\": {\"endlinecolor\": \"#2a3f5f\", \"gridcolor\": \"white\", \"linecolor\": \"white\", \"minorgridcolor\": \"white\", \"startlinecolor\": \"#2a3f5f\"}, \"baxis\": {\"endlinecolor\": \"#2a3f5f\", \"gridcolor\": \"white\", \"linecolor\": \"white\", \"minorgridcolor\": \"white\", \"startlinecolor\": \"#2a3f5f\"}, \"type\": \"carpet\"}], \"choropleth\": [{\"colorbar\": {\"outlinewidth\": 0, \"ticks\": \"\"}, \"type\": \"choropleth\"}], \"contour\": [{\"colorbar\": {\"outlinewidth\": 0, \"ticks\": \"\"}, \"colorscale\": [[0.0, \"#0d0887\"], [0.1111111111111111, \"#46039f\"], [0.2222222222222222, \"#7201a8\"], [0.3333333333333333, \"#9c179e\"], [0.4444444444444444, \"#bd3786\"], [0.5555555555555556, \"#d8576b\"], [0.6666666666666666, \"#ed7953\"], [0.7777777777777778, \"#fb9f3a\"], [0.8888888888888888, \"#fdca26\"], [1.0, \"#f0f921\"]], \"type\": \"contour\"}], \"contourcarpet\": [{\"colorbar\": {\"outlinewidth\": 0, \"ticks\": \"\"}, \"type\": \"contourcarpet\"}], \"heatmap\": [{\"colorbar\": {\"outlinewidth\": 0, \"ticks\": \"\"}, \"colorscale\": [[0.0, \"#0d0887\"], [0.1111111111111111, \"#46039f\"], [0.2222222222222222, \"#7201a8\"], [0.3333333333333333, \"#9c179e\"], [0.4444444444444444, \"#bd3786\"], [0.5555555555555556, \"#d8576b\"], [0.6666666666666666, \"#ed7953\"], [0.7777777777777778, \"#fb9f3a\"], [0.8888888888888888, \"#fdca26\"], [1.0, \"#f0f921\"]], \"type\": \"heatmap\"}], \"heatmapgl\": [{\"colorbar\": {\"outlinewidth\": 0, \"ticks\": \"\"}, \"colorscale\": [[0.0, \"#0d0887\"], [0.1111111111111111, \"#46039f\"], [0.2222222222222222, \"#7201a8\"], [0.3333333333333333, \"#9c179e\"], [0.4444444444444444, \"#bd3786\"], [0.5555555555555556, \"#d8576b\"], [0.6666666666666666, \"#ed7953\"], [0.7777777777777778, \"#fb9f3a\"], [0.8888888888888888, \"#fdca26\"], [1.0, \"#f0f921\"]], \"type\": \"heatmapgl\"}], \"histogram\": [{\"marker\": {\"colorbar\": {\"outlinewidth\": 0, \"ticks\": \"\"}}, \"type\": \"histogram\"}], \"histogram2d\": [{\"colorbar\": {\"outlinewidth\": 0, \"ticks\": \"\"}, \"colorscale\": [[0.0, \"#0d0887\"], [0.1111111111111111, \"#46039f\"], [0.2222222222222222, \"#7201a8\"], [0.3333333333333333, \"#9c179e\"], [0.4444444444444444, \"#bd3786\"], [0.5555555555555556, \"#d8576b\"], [0.6666666666666666, \"#ed7953\"], [0.7777777777777778, \"#fb9f3a\"], [0.8888888888888888, \"#fdca26\"], [1.0, \"#f0f921\"]], \"type\": \"histogram2d\"}], \"histogram2dcontour\": [{\"colorbar\": {\"outlinewidth\": 0, \"ticks\": \"\"}, \"colorscale\": [[0.0, \"#0d0887\"], [0.1111111111111111, \"#46039f\"], [0.2222222222222222, \"#7201a8\"], [0.3333333333333333, \"#9c179e\"], [0.4444444444444444, \"#bd3786\"], [0.5555555555555556, \"#d8576b\"], [0.6666666666666666, \"#ed7953\"], [0.7777777777777778, \"#fb9f3a\"], [0.8888888888888888, \"#fdca26\"], [1.0, \"#f0f921\"]], \"type\": \"histogram2dcontour\"}], \"mesh3d\": [{\"colorbar\": {\"outlinewidth\": 0, \"ticks\": \"\"}, \"type\": \"mesh3d\"}], \"parcoords\": [{\"line\": {\"colorbar\": {\"outlinewidth\": 0, \"ticks\": \"\"}}, \"type\": \"parcoords\"}], \"pie\": [{\"automargin\": true, \"type\": \"pie\"}], \"scatter\": [{\"marker\": {\"colorbar\": {\"outlinewidth\": 0, \"ticks\": \"\"}}, \"type\": \"scatter\"}], \"scatter3d\": [{\"line\": {\"colorbar\": {\"outlinewidth\": 0, \"ticks\": \"\"}}, \"marker\": {\"colorbar\": {\"outlinewidth\": 0, \"ticks\": \"\"}}, \"type\": \"scatter3d\"}], \"scattercarpet\": [{\"marker\": {\"colorbar\": {\"outlinewidth\": 0, \"ticks\": \"\"}}, \"type\": \"scattercarpet\"}], \"scattergeo\": [{\"marker\": {\"colorbar\": {\"outlinewidth\": 0, \"ticks\": \"\"}}, \"type\": \"scattergeo\"}], \"scattergl\": [{\"marker\": {\"colorbar\": {\"outlinewidth\": 0, \"ticks\": \"\"}}, \"type\": \"scattergl\"}], \"scattermapbox\": [{\"marker\": {\"colorbar\": {\"outlinewidth\": 0, \"ticks\": \"\"}}, \"type\": \"scattermapbox\"}], \"scatterpolar\": [{\"marker\": {\"colorbar\": {\"outlinewidth\": 0, \"ticks\": \"\"}}, \"type\": \"scatterpolar\"}], \"scatterpolargl\": [{\"marker\": {\"colorbar\": {\"outlinewidth\": 0, \"ticks\": \"\"}}, \"type\": \"scatterpolargl\"}], \"scatterternary\": [{\"marker\": {\"colorbar\": {\"outlinewidth\": 0, \"ticks\": \"\"}}, \"type\": \"scatterternary\"}], \"surface\": [{\"colorbar\": {\"outlinewidth\": 0, \"ticks\": \"\"}, \"colorscale\": [[0.0, \"#0d0887\"], [0.1111111111111111, \"#46039f\"], [0.2222222222222222, \"#7201a8\"], [0.3333333333333333, \"#9c179e\"], [0.4444444444444444, \"#bd3786\"], [0.5555555555555556, \"#d8576b\"], [0.6666666666666666, \"#ed7953\"], [0.7777777777777778, \"#fb9f3a\"], [0.8888888888888888, \"#fdca26\"], [1.0, \"#f0f921\"]], \"type\": \"surface\"}], \"table\": [{\"cells\": {\"fill\": {\"color\": \"#EBF0F8\"}, \"line\": {\"color\": \"white\"}}, \"header\": {\"fill\": {\"color\": \"#C8D4E3\"}, \"line\": {\"color\": \"white\"}}, \"type\": \"table\"}]}, \"layout\": {\"annotationdefaults\": {\"arrowcolor\": \"#2a3f5f\", \"arrowhead\": 0, \"arrowwidth\": 1}, \"coloraxis\": {\"colorbar\": {\"outlinewidth\": 0, \"ticks\": \"\"}}, \"colorscale\": {\"diverging\": [[0, \"#8e0152\"], [0.1, \"#c51b7d\"], [0.2, \"#de77ae\"], [0.3, \"#f1b6da\"], [0.4, \"#fde0ef\"], [0.5, \"#f7f7f7\"], [0.6, \"#e6f5d0\"], [0.7, \"#b8e186\"], [0.8, \"#7fbc41\"], [0.9, \"#4d9221\"], [1, \"#276419\"]], \"sequential\": [[0.0, \"#0d0887\"], [0.1111111111111111, \"#46039f\"], [0.2222222222222222, \"#7201a8\"], [0.3333333333333333, \"#9c179e\"], [0.4444444444444444, \"#bd3786\"], [0.5555555555555556, \"#d8576b\"], [0.6666666666666666, \"#ed7953\"], [0.7777777777777778, \"#fb9f3a\"], [0.8888888888888888, \"#fdca26\"], [1.0, \"#f0f921\"]], \"sequentialminus\": [[0.0, \"#0d0887\"], [0.1111111111111111, \"#46039f\"], [0.2222222222222222, \"#7201a8\"], [0.3333333333333333, \"#9c179e\"], [0.4444444444444444, \"#bd3786\"], [0.5555555555555556, \"#d8576b\"], [0.6666666666666666, \"#ed7953\"], [0.7777777777777778, \"#fb9f3a\"], [0.8888888888888888, \"#fdca26\"], [1.0, \"#f0f921\"]]}, \"colorway\": [\"#636efa\", \"#EF553B\", \"#00cc96\", \"#ab63fa\", \"#FFA15A\", \"#19d3f3\", \"#FF6692\", \"#B6E880\", \"#FF97FF\", \"#FECB52\"], \"font\": {\"color\": \"#2a3f5f\"}, \"geo\": {\"bgcolor\": \"white\", \"lakecolor\": \"white\", \"landcolor\": \"#E5ECF6\", \"showlakes\": true, \"showland\": true, \"subunitcolor\": \"white\"}, \"hoverlabel\": {\"align\": \"left\"}, \"hovermode\": \"closest\", \"mapbox\": {\"style\": \"light\"}, \"paper_bgcolor\": \"white\", \"plot_bgcolor\": \"#E5ECF6\", \"polar\": {\"angularaxis\": {\"gridcolor\": \"white\", \"linecolor\": \"white\", \"ticks\": \"\"}, \"bgcolor\": \"#E5ECF6\", \"radialaxis\": {\"gridcolor\": \"white\", \"linecolor\": \"white\", \"ticks\": \"\"}}, \"scene\": {\"xaxis\": {\"backgroundcolor\": \"#E5ECF6\", \"gridcolor\": \"white\", \"gridwidth\": 2, \"linecolor\": \"white\", \"showbackground\": true, \"ticks\": \"\", \"zerolinecolor\": \"white\"}, \"yaxis\": {\"backgroundcolor\": \"#E5ECF6\", \"gridcolor\": \"white\", \"gridwidth\": 2, \"linecolor\": \"white\", \"showbackground\": true, \"ticks\": \"\", \"zerolinecolor\": \"white\"}, \"zaxis\": {\"backgroundcolor\": \"#E5ECF6\", \"gridcolor\": \"white\", \"gridwidth\": 2, \"linecolor\": \"white\", \"showbackground\": true, \"ticks\": \"\", \"zerolinecolor\": \"white\"}}, \"shapedefaults\": {\"line\": {\"color\": \"#2a3f5f\"}}, \"ternary\": {\"aaxis\": {\"gridcolor\": \"white\", \"linecolor\": \"white\", \"ticks\": \"\"}, \"baxis\": {\"gridcolor\": \"white\", \"linecolor\": \"white\", \"ticks\": \"\"}, \"bgcolor\": \"#E5ECF6\", \"caxis\": {\"gridcolor\": \"white\", \"linecolor\": \"white\", \"ticks\": \"\"}}, \"title\": {\"x\": 0.05}, \"xaxis\": {\"automargin\": true, \"gridcolor\": \"white\", \"linecolor\": \"white\", \"ticks\": \"\", \"title\": {\"standoff\": 15}, \"zerolinecolor\": \"white\", \"zerolinewidth\": 2}, \"yaxis\": {\"automargin\": true, \"gridcolor\": \"white\", \"linecolor\": \"white\", \"ticks\": \"\", \"title\": {\"standoff\": 15}, \"zerolinecolor\": \"white\", \"zerolinewidth\": 2}}}, \"title\": {\"text\": \"BMW, sampled D\"}, \"xaxis\": {\"anchor\": \"y\", \"domain\": [0.0, 0.94]}, \"yaxis\": {\"anchor\": \"x\", \"domain\": [0.0, 1.0]}, \"yaxis2\": {\"anchor\": \"x\", \"overlaying\": \"y\", \"side\": \"right\"}},\n",
       "                        {\"responsive\": true}\n",
       "                    ).then(function(){\n",
       "                            \n",
       "var gd = document.getElementById('1601cc56-ef07-4900-87aa-bbf383b4c1b0');\n",
       "var x = new MutationObserver(function (mutations, observer) {{\n",
       "        var display = window.getComputedStyle(gd).display;\n",
       "        if (!display || display === 'none') {{\n",
       "            console.log([gd, 'removed!']);\n",
       "            Plotly.purge(gd);\n",
       "            observer.disconnect();\n",
       "        }}\n",
       "}});\n",
       "\n",
       "// Listen for the removal of the full notebook cells\n",
       "var notebookContainer = gd.closest('#notebook-container');\n",
       "if (notebookContainer) {{\n",
       "    x.observe(notebookContainer, {childList: true});\n",
       "}}\n",
       "\n",
       "// Listen for the clearing of the current output cell\n",
       "var outputEl = gd.closest('.output');\n",
       "if (outputEl) {{\n",
       "    x.observe(outputEl, {childList: true});\n",
       "}}\n",
       "\n",
       "                        })\n",
       "                };\n",
       "                });\n",
       "            </script>\n",
       "        </div>"
      ]
     },
     "metadata": {},
     "output_type": "display_data"
    }
   ],
   "source": [
    "lib.plot_security(df, 'BMW', 'EndPrice', 'line', 'D', True)"
   ]
  },
  {
   "cell_type": "markdown",
   "metadata": {},
   "source": [
    "Anamalous volume means something? : Yes, something related to ETF"
   ]
  },
  {
   "cell_type": "markdown",
   "metadata": {},
   "source": [
    "## Differences"
   ]
  },
  {
   "cell_type": "markdown",
   "metadata": {},
   "source": [
    "EndPrice - StartPrice tells you have much the price moved between two periods. "
   ]
  },
  {
   "cell_type": "code",
   "execution_count": 17,
   "metadata": {},
   "outputs": [
    {
     "data": {
      "text/html": [
       "<div>\n",
       "<style scoped>\n",
       "    .dataframe tbody tr th:only-of-type {\n",
       "        vertical-align: middle;\n",
       "    }\n",
       "\n",
       "    .dataframe tbody tr th {\n",
       "        vertical-align: top;\n",
       "    }\n",
       "\n",
       "    .dataframe thead th {\n",
       "        text-align: right;\n",
       "    }\n",
       "</style>\n",
       "<table border=\"1\" class=\"dataframe\">\n",
       "  <thead>\n",
       "    <tr style=\"text-align: right;\">\n",
       "      <th></th>\n",
       "      <th>ISIN</th>\n",
       "      <th>Mnemonic</th>\n",
       "      <th>SecurityDesc</th>\n",
       "      <th>SecurityType</th>\n",
       "      <th>Currency</th>\n",
       "      <th>SecurityID</th>\n",
       "      <th>StartPrice</th>\n",
       "      <th>MaxPrice</th>\n",
       "      <th>MinPrice</th>\n",
       "      <th>EndPrice</th>\n",
       "      <th>TradedVolume</th>\n",
       "      <th>NumberOfTrades</th>\n",
       "      <th>CalcDateTime</th>\n",
       "      <th>PriceChange</th>\n",
       "    </tr>\n",
       "  </thead>\n",
       "  <tbody>\n",
       "    <tr>\n",
       "      <th>83</th>\n",
       "      <td>DE0006062144</td>\n",
       "      <td>1COV</td>\n",
       "      <td>COVESTRO AG  O.N.</td>\n",
       "      <td>Common stock</td>\n",
       "      <td>EUR</td>\n",
       "      <td>2505008</td>\n",
       "      <td>33.02</td>\n",
       "      <td>33.140</td>\n",
       "      <td>33.02</td>\n",
       "      <td>33.13</td>\n",
       "      <td>11421.0</td>\n",
       "      <td>21.0</td>\n",
       "      <td>2020-08-03 07:00:00</td>\n",
       "      <td>0.11</td>\n",
       "    </tr>\n",
       "    <tr>\n",
       "      <th>152</th>\n",
       "      <td>DE000TRAT0N7</td>\n",
       "      <td>8TRA</td>\n",
       "      <td>TRATON SE   INH O.N.</td>\n",
       "      <td>Common stock</td>\n",
       "      <td>EUR</td>\n",
       "      <td>4197490</td>\n",
       "      <td>16.10</td>\n",
       "      <td>16.234</td>\n",
       "      <td>16.00</td>\n",
       "      <td>16.20</td>\n",
       "      <td>3494.0</td>\n",
       "      <td>11.0</td>\n",
       "      <td>2020-08-03 07:00:00</td>\n",
       "      <td>0.10</td>\n",
       "    </tr>\n",
       "  </tbody>\n",
       "</table>\n",
       "</div>"
      ],
      "text/plain": [
       "             ISIN Mnemonic          SecurityDesc  SecurityType Currency  \\\n",
       "83   DE0006062144     1COV     COVESTRO AG  O.N.  Common stock      EUR   \n",
       "152  DE000TRAT0N7     8TRA  TRATON SE   INH O.N.  Common stock      EUR   \n",
       "\n",
       "    SecurityID  StartPrice  MaxPrice  MinPrice  EndPrice  TradedVolume  \\\n",
       "83     2505008       33.02    33.140     33.02     33.13       11421.0   \n",
       "152    4197490       16.10    16.234     16.00     16.20        3494.0   \n",
       "\n",
       "     NumberOfTrades        CalcDateTime  PriceChange  \n",
       "83             21.0 2020-08-03 07:00:00         0.11  \n",
       "152            11.0 2020-08-03 07:00:00         0.10  "
      ]
     },
     "execution_count": 17,
     "metadata": {},
     "output_type": "execute_result"
    }
   ],
   "source": [
    "df.head(2)"
   ]
  },
  {
   "cell_type": "code",
   "execution_count": 19,
   "metadata": {},
   "outputs": [],
   "source": [
    "df.set_index('CalcDateTime', drop=True, inplace=True)"
   ]
  },
  {
   "cell_type": "code",
   "execution_count": 20,
   "metadata": {},
   "outputs": [],
   "source": [
    "df['PriceChange'] = df['EndPrice'] - df['StartPrice']"
   ]
  },
  {
   "cell_type": "code",
   "execution_count": 21,
   "metadata": {},
   "outputs": [
    {
     "data": {
      "application/vnd.plotly.v1+json": {
       "config": {
        "plotlyServerURL": "https://plot.ly"
       },
       "data": [
        {
         "name": "PriceChange",
         "type": "scatter",
         "x": [
          "2020-08-03T07:00:00",
          "2020-08-03T08:00:00",
          "2020-08-03T09:00:00",
          "2020-08-03T10:00:00",
          "2020-08-03T11:00:00",
          "2020-08-03T12:00:00",
          "2020-08-03T13:00:00",
          "2020-08-03T14:00:00",
          "2020-08-03T15:00:00",
          "2020-08-04T07:00:00",
          "2020-08-04T08:00:00",
          "2020-08-04T09:00:00",
          "2020-08-04T10:00:00",
          "2020-08-04T11:00:00",
          "2020-08-04T12:00:00",
          "2020-08-04T13:00:00",
          "2020-08-04T14:00:00",
          "2020-08-04T15:00:00",
          "2020-08-05T07:00:00",
          "2020-08-05T08:00:00",
          "2020-08-05T09:00:00",
          "2020-08-05T10:00:00",
          "2020-08-05T11:00:00",
          "2020-08-05T12:00:00",
          "2020-08-05T13:00:00",
          "2020-08-05T14:00:00",
          "2020-08-05T15:00:00",
          "2020-08-06T07:00:00",
          "2020-08-06T08:00:00",
          "2020-08-06T09:00:00",
          "2020-08-06T10:00:00",
          "2020-08-06T11:00:00",
          "2020-08-06T12:00:00",
          "2020-08-06T13:00:00",
          "2020-08-06T14:00:00",
          "2020-08-06T15:00:00",
          "2020-08-07T07:00:00",
          "2020-08-07T08:00:00",
          "2020-08-07T09:00:00",
          "2020-08-07T10:00:00",
          "2020-08-07T11:00:00",
          "2020-08-07T12:00:00",
          "2020-08-07T13:00:00",
          "2020-08-07T14:00:00",
          "2020-08-07T15:00:00",
          "2020-08-10T07:00:00",
          "2020-08-10T08:00:00",
          "2020-08-10T09:00:00",
          "2020-08-10T10:00:00",
          "2020-08-10T11:00:00",
          "2020-08-10T12:00:00",
          "2020-08-10T13:00:00",
          "2020-08-10T14:00:00",
          "2020-08-10T15:00:00",
          "2020-08-11T07:00:00",
          "2020-08-11T08:00:00",
          "2020-08-11T09:00:00",
          "2020-08-11T10:00:00",
          "2020-08-11T11:00:00",
          "2020-08-11T12:00:00",
          "2020-08-11T13:00:00",
          "2020-08-11T14:00:00",
          "2020-08-11T15:00:00",
          "2020-08-12T07:00:00",
          "2020-08-12T08:00:00",
          "2020-08-12T09:00:00",
          "2020-08-12T10:00:00",
          "2020-08-12T11:00:00",
          "2020-08-12T12:00:00",
          "2020-08-12T13:00:00",
          "2020-08-12T14:00:00",
          "2020-08-12T15:00:00",
          "2020-08-13T07:00:00",
          "2020-08-13T08:00:00",
          "2020-08-13T09:00:00",
          "2020-08-13T10:00:00",
          "2020-08-13T11:00:00",
          "2020-08-13T12:00:00",
          "2020-08-13T13:00:00",
          "2020-08-13T14:00:00",
          "2020-08-13T15:00:00",
          "2020-08-14T07:00:00",
          "2020-08-14T08:00:00",
          "2020-08-14T09:00:00",
          "2020-08-14T10:00:00",
          "2020-08-14T11:00:00",
          "2020-08-14T12:00:00",
          "2020-08-14T13:00:00",
          "2020-08-14T14:00:00",
          "2020-08-14T15:00:00",
          "2020-08-17T07:00:00",
          "2020-08-17T08:00:00",
          "2020-08-17T09:00:00",
          "2020-08-17T10:00:00",
          "2020-08-17T11:00:00",
          "2020-08-17T12:00:00",
          "2020-08-17T13:00:00",
          "2020-08-17T14:00:00",
          "2020-08-17T15:00:00",
          "2020-08-18T07:00:00",
          "2020-08-18T08:00:00",
          "2020-08-18T09:00:00",
          "2020-08-18T10:00:00",
          "2020-08-18T11:00:00",
          "2020-08-18T12:00:00",
          "2020-08-18T13:00:00",
          "2020-08-18T14:00:00",
          "2020-08-18T15:00:00",
          "2020-08-19T07:00:00",
          "2020-08-19T08:00:00",
          "2020-08-19T09:00:00",
          "2020-08-19T10:00:00",
          "2020-08-19T11:00:00",
          "2020-08-19T12:00:00",
          "2020-08-19T13:00:00",
          "2020-08-19T14:00:00",
          "2020-08-19T15:00:00",
          "2020-08-20T07:00:00",
          "2020-08-20T08:00:00",
          "2020-08-20T09:00:00",
          "2020-08-20T10:00:00",
          "2020-08-20T11:00:00",
          "2020-08-20T12:00:00",
          "2020-08-20T13:00:00",
          "2020-08-20T14:00:00",
          "2020-08-20T15:00:00",
          "2020-08-21T07:00:00",
          "2020-08-21T08:00:00",
          "2020-08-21T09:00:00",
          "2020-08-21T10:00:00",
          "2020-08-21T11:00:00",
          "2020-08-21T12:00:00",
          "2020-08-21T13:00:00",
          "2020-08-21T14:00:00",
          "2020-08-21T15:00:00",
          "2020-08-24T07:00:00",
          "2020-08-24T08:00:00",
          "2020-08-24T09:00:00",
          "2020-08-24T10:00:00",
          "2020-08-24T11:00:00",
          "2020-08-24T12:00:00",
          "2020-08-24T13:00:00",
          "2020-08-24T14:00:00",
          "2020-08-24T15:00:00"
         ],
         "y": [
          0.6400000000000219,
          0.1999999999999602,
          0.22999999999997556,
          0.4599999999999511,
          0.38999999999997925,
          0.09999999999998721,
          0.08999999999996788,
          0.1600000000000037,
          0.1600000000000037,
          0.3199999999999932,
          0.6999999999999815,
          -0.27000000000001023,
          -0.12000000000000455,
          -0.2600000000000193,
          -0.29000000000000625,
          0.11999999999999034,
          0.15999999999996106,
          -0.1599999999999966,
          0.5100000000000051,
          -0.2499999999999929,
          -0.10999999999999943,
          -0.2500000000000213,
          0.060000000000002274,
          -0.1899999999999622,
          -0.12000000000000455,
          0.27000000000003865,
          0.3199999999999861,
          -0.6299999999999883,
          0.2499999999999929,
          0.21000000000002927,
          -0.5399999999999636,
          -0.06999999999998607,
          0.2700000000000031,
          0.10000000000000142,
          0.17000000000001592,
          0.1700000000000017,
          -0.2699999999999747,
          -0.03999999999999204,
          -0.15999999999998948,
          0.3400000000000176,
          -0.04000000000000625,
          0.20999999999999375,
          0.2300000000000466,
          0.14000000000000057,
          -0.020000000000010232,
          -0.2600000000000193,
          0.05999999999999517,
          0.0999999999999801,
          0.3700000000000472,
          -0.4600000000000364,
          -0.02999999999997982,
          0.0800000000000054,
          -0.020000000000010232,
          0.07000000000000028,
          1.0600000000000236,
          0.2500000000000071,
          0.20000000000002416,
          -0.04000000000000625,
          3.552713678800501e-14,
          0.1699999999999946,
          -0.46999999999998465,
          -0.30000000000001137,
          0.2400000000000162,
          0.16999999999995197,
          0.1500000000000341,
          0.22999999999999687,
          0.21000000000002217,
          -0.10999999999999943,
          0.22000000000002018,
          -0.240000000000002,
          -0.020000000000017337,
          -0.15000000000000568,
          0.7700000000000315,
          -0.16000000000003922,
          -0.1600000000000037,
          -0.2699999999999818,
          -0.13000000000002387,
          -0.25,
          -0.13000000000000256,
          -0.329999999999977,
          0.0799999999999983,
          -0.6699999999999804,
          -0.5599999999999596,
          0.18000000000002814,
          -0.09000000000000341,
          0.12000000000001876,
          -0.10000000000002274,
          0.029999999999986926,
          -0.1600000000000108,
          0.06999999999999318,
          0.12999999999999545,
          -0.18999999999998352,
          -0.15999999999996817,
          0.039999999999970726,
          -0.23000000000000398,
          -0.040000000000020464,
          -0.17999999999999972,
          -0.18999999999998352,
          0.07000000000000028,
          -0.18999999999998352,
          -0.010000000000019327,
          0.38000000000000256,
          0.19999999999997442,
          -0.060000000000002274,
          0.019999999999974705,
          -0.3500000000000085,
          -0.20000000000002416,
          0.07999999999998408,
          0.29999999999996163,
          0.18000000000000682,
          0.07000000000000739,
          -0.11999999999999744,
          -0.1500000000000128,
          0.04000000000000625,
          0.28999999999999915,
          0.18000000000000682,
          -0.02999999999999403,
          0.040000000000020464,
          -0.259999999999998,
          -0.05000000000001137,
          0.20000000000000284,
          -0.05999999999998806,
          0.010000000000005116,
          0.1400000000000361,
          -0.04999999999999716,
          0.06000000000000938,
          0.06999999999998607,
          -0.19000000000000483,
          -0.12999999999998835,
          -0.1700000000000017,
          -0.2699999999999747,
          -0.38999999999998636,
          0.23000000000001108,
          -0.02999999999997982,
          -0.07999999999998408,
          0.3100000000000094,
          0.030000000000001137,
          0.020000000000003126,
          0.13000000000003098,
          0.1899999999999622,
          -0.13000000000000256,
          -0.10999999999999233,
          0.5600000000000165,
          0.0899999999999963
         ]
        },
        {
         "marker": {
          "color": "blue"
         },
         "name": "Volume",
         "opacity": 0.3,
         "type": "bar",
         "x": [
          "2020-08-03T07:00:00",
          "2020-08-03T08:00:00",
          "2020-08-03T09:00:00",
          "2020-08-03T10:00:00",
          "2020-08-03T11:00:00",
          "2020-08-03T12:00:00",
          "2020-08-03T13:00:00",
          "2020-08-03T14:00:00",
          "2020-08-03T15:00:00",
          "2020-08-04T07:00:00",
          "2020-08-04T08:00:00",
          "2020-08-04T09:00:00",
          "2020-08-04T10:00:00",
          "2020-08-04T11:00:00",
          "2020-08-04T12:00:00",
          "2020-08-04T13:00:00",
          "2020-08-04T14:00:00",
          "2020-08-04T15:00:00",
          "2020-08-05T07:00:00",
          "2020-08-05T08:00:00",
          "2020-08-05T09:00:00",
          "2020-08-05T10:00:00",
          "2020-08-05T11:00:00",
          "2020-08-05T12:00:00",
          "2020-08-05T13:00:00",
          "2020-08-05T14:00:00",
          "2020-08-05T15:00:00",
          "2020-08-06T07:00:00",
          "2020-08-06T08:00:00",
          "2020-08-06T09:00:00",
          "2020-08-06T10:00:00",
          "2020-08-06T11:00:00",
          "2020-08-06T12:00:00",
          "2020-08-06T13:00:00",
          "2020-08-06T14:00:00",
          "2020-08-06T15:00:00",
          "2020-08-07T07:00:00",
          "2020-08-07T08:00:00",
          "2020-08-07T09:00:00",
          "2020-08-07T10:00:00",
          "2020-08-07T11:00:00",
          "2020-08-07T12:00:00",
          "2020-08-07T13:00:00",
          "2020-08-07T14:00:00",
          "2020-08-07T15:00:00",
          "2020-08-10T07:00:00",
          "2020-08-10T08:00:00",
          "2020-08-10T09:00:00",
          "2020-08-10T10:00:00",
          "2020-08-10T11:00:00",
          "2020-08-10T12:00:00",
          "2020-08-10T13:00:00",
          "2020-08-10T14:00:00",
          "2020-08-10T15:00:00",
          "2020-08-11T07:00:00",
          "2020-08-11T08:00:00",
          "2020-08-11T09:00:00",
          "2020-08-11T10:00:00",
          "2020-08-11T11:00:00",
          "2020-08-11T12:00:00",
          "2020-08-11T13:00:00",
          "2020-08-11T14:00:00",
          "2020-08-11T15:00:00",
          "2020-08-12T07:00:00",
          "2020-08-12T08:00:00",
          "2020-08-12T09:00:00",
          "2020-08-12T10:00:00",
          "2020-08-12T11:00:00",
          "2020-08-12T12:00:00",
          "2020-08-12T13:00:00",
          "2020-08-12T14:00:00",
          "2020-08-12T15:00:00",
          "2020-08-13T07:00:00",
          "2020-08-13T08:00:00",
          "2020-08-13T09:00:00",
          "2020-08-13T10:00:00",
          "2020-08-13T11:00:00",
          "2020-08-13T12:00:00",
          "2020-08-13T13:00:00",
          "2020-08-13T14:00:00",
          "2020-08-13T15:00:00",
          "2020-08-14T07:00:00",
          "2020-08-14T08:00:00",
          "2020-08-14T09:00:00",
          "2020-08-14T10:00:00",
          "2020-08-14T11:00:00",
          "2020-08-14T12:00:00",
          "2020-08-14T13:00:00",
          "2020-08-14T14:00:00",
          "2020-08-14T15:00:00",
          "2020-08-17T07:00:00",
          "2020-08-17T08:00:00",
          "2020-08-17T09:00:00",
          "2020-08-17T10:00:00",
          "2020-08-17T11:00:00",
          "2020-08-17T12:00:00",
          "2020-08-17T13:00:00",
          "2020-08-17T14:00:00",
          "2020-08-17T15:00:00",
          "2020-08-18T07:00:00",
          "2020-08-18T08:00:00",
          "2020-08-18T09:00:00",
          "2020-08-18T10:00:00",
          "2020-08-18T11:00:00",
          "2020-08-18T12:00:00",
          "2020-08-18T13:00:00",
          "2020-08-18T14:00:00",
          "2020-08-18T15:00:00",
          "2020-08-19T07:00:00",
          "2020-08-19T08:00:00",
          "2020-08-19T09:00:00",
          "2020-08-19T10:00:00",
          "2020-08-19T11:00:00",
          "2020-08-19T12:00:00",
          "2020-08-19T13:00:00",
          "2020-08-19T14:00:00",
          "2020-08-19T15:00:00",
          "2020-08-20T07:00:00",
          "2020-08-20T08:00:00",
          "2020-08-20T09:00:00",
          "2020-08-20T10:00:00",
          "2020-08-20T11:00:00",
          "2020-08-20T12:00:00",
          "2020-08-20T13:00:00",
          "2020-08-20T14:00:00",
          "2020-08-20T15:00:00",
          "2020-08-21T07:00:00",
          "2020-08-21T08:00:00",
          "2020-08-21T09:00:00",
          "2020-08-21T10:00:00",
          "2020-08-21T11:00:00",
          "2020-08-21T12:00:00",
          "2020-08-21T13:00:00",
          "2020-08-21T14:00:00",
          "2020-08-21T15:00:00",
          "2020-08-24T07:00:00",
          "2020-08-24T08:00:00",
          "2020-08-24T09:00:00",
          "2020-08-24T10:00:00",
          "2020-08-24T11:00:00",
          "2020-08-24T12:00:00",
          "2020-08-24T13:00:00",
          "2020-08-24T14:00:00",
          "2020-08-24T15:00:00"
         ],
         "xaxis": "x",
         "y": [
          266982,
          149207,
          243558,
          100272,
          81249,
          69725,
          121672,
          205338,
          574783,
          318240,
          182110,
          81700,
          72513,
          42709,
          107396,
          139593,
          151390,
          777747,
          482962,
          268061,
          122548,
          155684,
          150865,
          208424,
          205463,
          320661,
          1152444,
          336437,
          188237,
          146656,
          191182,
          165736,
          195950,
          193929,
          210634,
          824977,
          221515,
          132313,
          170504,
          84164,
          140614,
          139587,
          209943,
          164995,
          720932,
          246828,
          155194,
          118303,
          84232,
          42210,
          64313,
          122310,
          131199,
          402753,
          882752,
          240418,
          211597,
          130587,
          163693,
          117951,
          174863,
          261433,
          959610,
          251926,
          150134,
          83087,
          73231,
          68749,
          84696,
          140448,
          176460,
          634563,
          167853,
          88435,
          65577,
          46332,
          39321,
          57484,
          81341,
          73645,
          405930,
          159306,
          183196,
          82294,
          67454,
          52402,
          65346,
          84530,
          66312,
          370606,
          115382,
          70826,
          32440,
          42772,
          38631,
          77489,
          63311,
          100892,
          287635,
          119839,
          72134,
          52773,
          51825,
          78626,
          55541,
          85050,
          126079,
          506272,
          144268,
          164817,
          74196,
          73142,
          50314,
          69412,
          105572,
          118915,
          423642,
          186007,
          81890,
          45760,
          69523,
          25303,
          38987,
          66175,
          81554,
          426387,
          132773,
          74294,
          154133,
          73340,
          128507,
          121230,
          109407,
          67633,
          533772,
          211851,
          128209,
          100093,
          40461,
          48652,
          62524,
          72579,
          171017,
          755912
         ],
         "yaxis": "y2"
        }
       ],
       "layout": {
        "template": {
         "data": {
          "bar": [
           {
            "error_x": {
             "color": "#2a3f5f"
            },
            "error_y": {
             "color": "#2a3f5f"
            },
            "marker": {
             "line": {
              "color": "#E5ECF6",
              "width": 0.5
             }
            },
            "type": "bar"
           }
          ],
          "barpolar": [
           {
            "marker": {
             "line": {
              "color": "#E5ECF6",
              "width": 0.5
             }
            },
            "type": "barpolar"
           }
          ],
          "carpet": [
           {
            "aaxis": {
             "endlinecolor": "#2a3f5f",
             "gridcolor": "white",
             "linecolor": "white",
             "minorgridcolor": "white",
             "startlinecolor": "#2a3f5f"
            },
            "baxis": {
             "endlinecolor": "#2a3f5f",
             "gridcolor": "white",
             "linecolor": "white",
             "minorgridcolor": "white",
             "startlinecolor": "#2a3f5f"
            },
            "type": "carpet"
           }
          ],
          "choropleth": [
           {
            "colorbar": {
             "outlinewidth": 0,
             "ticks": ""
            },
            "type": "choropleth"
           }
          ],
          "contour": [
           {
            "colorbar": {
             "outlinewidth": 0,
             "ticks": ""
            },
            "colorscale": [
             [
              0,
              "#0d0887"
             ],
             [
              0.1111111111111111,
              "#46039f"
             ],
             [
              0.2222222222222222,
              "#7201a8"
             ],
             [
              0.3333333333333333,
              "#9c179e"
             ],
             [
              0.4444444444444444,
              "#bd3786"
             ],
             [
              0.5555555555555556,
              "#d8576b"
             ],
             [
              0.6666666666666666,
              "#ed7953"
             ],
             [
              0.7777777777777778,
              "#fb9f3a"
             ],
             [
              0.8888888888888888,
              "#fdca26"
             ],
             [
              1,
              "#f0f921"
             ]
            ],
            "type": "contour"
           }
          ],
          "contourcarpet": [
           {
            "colorbar": {
             "outlinewidth": 0,
             "ticks": ""
            },
            "type": "contourcarpet"
           }
          ],
          "heatmap": [
           {
            "colorbar": {
             "outlinewidth": 0,
             "ticks": ""
            },
            "colorscale": [
             [
              0,
              "#0d0887"
             ],
             [
              0.1111111111111111,
              "#46039f"
             ],
             [
              0.2222222222222222,
              "#7201a8"
             ],
             [
              0.3333333333333333,
              "#9c179e"
             ],
             [
              0.4444444444444444,
              "#bd3786"
             ],
             [
              0.5555555555555556,
              "#d8576b"
             ],
             [
              0.6666666666666666,
              "#ed7953"
             ],
             [
              0.7777777777777778,
              "#fb9f3a"
             ],
             [
              0.8888888888888888,
              "#fdca26"
             ],
             [
              1,
              "#f0f921"
             ]
            ],
            "type": "heatmap"
           }
          ],
          "heatmapgl": [
           {
            "colorbar": {
             "outlinewidth": 0,
             "ticks": ""
            },
            "colorscale": [
             [
              0,
              "#0d0887"
             ],
             [
              0.1111111111111111,
              "#46039f"
             ],
             [
              0.2222222222222222,
              "#7201a8"
             ],
             [
              0.3333333333333333,
              "#9c179e"
             ],
             [
              0.4444444444444444,
              "#bd3786"
             ],
             [
              0.5555555555555556,
              "#d8576b"
             ],
             [
              0.6666666666666666,
              "#ed7953"
             ],
             [
              0.7777777777777778,
              "#fb9f3a"
             ],
             [
              0.8888888888888888,
              "#fdca26"
             ],
             [
              1,
              "#f0f921"
             ]
            ],
            "type": "heatmapgl"
           }
          ],
          "histogram": [
           {
            "marker": {
             "colorbar": {
              "outlinewidth": 0,
              "ticks": ""
             }
            },
            "type": "histogram"
           }
          ],
          "histogram2d": [
           {
            "colorbar": {
             "outlinewidth": 0,
             "ticks": ""
            },
            "colorscale": [
             [
              0,
              "#0d0887"
             ],
             [
              0.1111111111111111,
              "#46039f"
             ],
             [
              0.2222222222222222,
              "#7201a8"
             ],
             [
              0.3333333333333333,
              "#9c179e"
             ],
             [
              0.4444444444444444,
              "#bd3786"
             ],
             [
              0.5555555555555556,
              "#d8576b"
             ],
             [
              0.6666666666666666,
              "#ed7953"
             ],
             [
              0.7777777777777778,
              "#fb9f3a"
             ],
             [
              0.8888888888888888,
              "#fdca26"
             ],
             [
              1,
              "#f0f921"
             ]
            ],
            "type": "histogram2d"
           }
          ],
          "histogram2dcontour": [
           {
            "colorbar": {
             "outlinewidth": 0,
             "ticks": ""
            },
            "colorscale": [
             [
              0,
              "#0d0887"
             ],
             [
              0.1111111111111111,
              "#46039f"
             ],
             [
              0.2222222222222222,
              "#7201a8"
             ],
             [
              0.3333333333333333,
              "#9c179e"
             ],
             [
              0.4444444444444444,
              "#bd3786"
             ],
             [
              0.5555555555555556,
              "#d8576b"
             ],
             [
              0.6666666666666666,
              "#ed7953"
             ],
             [
              0.7777777777777778,
              "#fb9f3a"
             ],
             [
              0.8888888888888888,
              "#fdca26"
             ],
             [
              1,
              "#f0f921"
             ]
            ],
            "type": "histogram2dcontour"
           }
          ],
          "mesh3d": [
           {
            "colorbar": {
             "outlinewidth": 0,
             "ticks": ""
            },
            "type": "mesh3d"
           }
          ],
          "parcoords": [
           {
            "line": {
             "colorbar": {
              "outlinewidth": 0,
              "ticks": ""
             }
            },
            "type": "parcoords"
           }
          ],
          "pie": [
           {
            "automargin": true,
            "type": "pie"
           }
          ],
          "scatter": [
           {
            "marker": {
             "colorbar": {
              "outlinewidth": 0,
              "ticks": ""
             }
            },
            "type": "scatter"
           }
          ],
          "scatter3d": [
           {
            "line": {
             "colorbar": {
              "outlinewidth": 0,
              "ticks": ""
             }
            },
            "marker": {
             "colorbar": {
              "outlinewidth": 0,
              "ticks": ""
             }
            },
            "type": "scatter3d"
           }
          ],
          "scattercarpet": [
           {
            "marker": {
             "colorbar": {
              "outlinewidth": 0,
              "ticks": ""
             }
            },
            "type": "scattercarpet"
           }
          ],
          "scattergeo": [
           {
            "marker": {
             "colorbar": {
              "outlinewidth": 0,
              "ticks": ""
             }
            },
            "type": "scattergeo"
           }
          ],
          "scattergl": [
           {
            "marker": {
             "colorbar": {
              "outlinewidth": 0,
              "ticks": ""
             }
            },
            "type": "scattergl"
           }
          ],
          "scattermapbox": [
           {
            "marker": {
             "colorbar": {
              "outlinewidth": 0,
              "ticks": ""
             }
            },
            "type": "scattermapbox"
           }
          ],
          "scatterpolar": [
           {
            "marker": {
             "colorbar": {
              "outlinewidth": 0,
              "ticks": ""
             }
            },
            "type": "scatterpolar"
           }
          ],
          "scatterpolargl": [
           {
            "marker": {
             "colorbar": {
              "outlinewidth": 0,
              "ticks": ""
             }
            },
            "type": "scatterpolargl"
           }
          ],
          "scatterternary": [
           {
            "marker": {
             "colorbar": {
              "outlinewidth": 0,
              "ticks": ""
             }
            },
            "type": "scatterternary"
           }
          ],
          "surface": [
           {
            "colorbar": {
             "outlinewidth": 0,
             "ticks": ""
            },
            "colorscale": [
             [
              0,
              "#0d0887"
             ],
             [
              0.1111111111111111,
              "#46039f"
             ],
             [
              0.2222222222222222,
              "#7201a8"
             ],
             [
              0.3333333333333333,
              "#9c179e"
             ],
             [
              0.4444444444444444,
              "#bd3786"
             ],
             [
              0.5555555555555556,
              "#d8576b"
             ],
             [
              0.6666666666666666,
              "#ed7953"
             ],
             [
              0.7777777777777778,
              "#fb9f3a"
             ],
             [
              0.8888888888888888,
              "#fdca26"
             ],
             [
              1,
              "#f0f921"
             ]
            ],
            "type": "surface"
           }
          ],
          "table": [
           {
            "cells": {
             "fill": {
              "color": "#EBF0F8"
             },
             "line": {
              "color": "white"
             }
            },
            "header": {
             "fill": {
              "color": "#C8D4E3"
             },
             "line": {
              "color": "white"
             }
            },
            "type": "table"
           }
          ]
         },
         "layout": {
          "annotationdefaults": {
           "arrowcolor": "#2a3f5f",
           "arrowhead": 0,
           "arrowwidth": 1
          },
          "coloraxis": {
           "colorbar": {
            "outlinewidth": 0,
            "ticks": ""
           }
          },
          "colorscale": {
           "diverging": [
            [
             0,
             "#8e0152"
            ],
            [
             0.1,
             "#c51b7d"
            ],
            [
             0.2,
             "#de77ae"
            ],
            [
             0.3,
             "#f1b6da"
            ],
            [
             0.4,
             "#fde0ef"
            ],
            [
             0.5,
             "#f7f7f7"
            ],
            [
             0.6,
             "#e6f5d0"
            ],
            [
             0.7,
             "#b8e186"
            ],
            [
             0.8,
             "#7fbc41"
            ],
            [
             0.9,
             "#4d9221"
            ],
            [
             1,
             "#276419"
            ]
           ],
           "sequential": [
            [
             0,
             "#0d0887"
            ],
            [
             0.1111111111111111,
             "#46039f"
            ],
            [
             0.2222222222222222,
             "#7201a8"
            ],
            [
             0.3333333333333333,
             "#9c179e"
            ],
            [
             0.4444444444444444,
             "#bd3786"
            ],
            [
             0.5555555555555556,
             "#d8576b"
            ],
            [
             0.6666666666666666,
             "#ed7953"
            ],
            [
             0.7777777777777778,
             "#fb9f3a"
            ],
            [
             0.8888888888888888,
             "#fdca26"
            ],
            [
             1,
             "#f0f921"
            ]
           ],
           "sequentialminus": [
            [
             0,
             "#0d0887"
            ],
            [
             0.1111111111111111,
             "#46039f"
            ],
            [
             0.2222222222222222,
             "#7201a8"
            ],
            [
             0.3333333333333333,
             "#9c179e"
            ],
            [
             0.4444444444444444,
             "#bd3786"
            ],
            [
             0.5555555555555556,
             "#d8576b"
            ],
            [
             0.6666666666666666,
             "#ed7953"
            ],
            [
             0.7777777777777778,
             "#fb9f3a"
            ],
            [
             0.8888888888888888,
             "#fdca26"
            ],
            [
             1,
             "#f0f921"
            ]
           ]
          },
          "colorway": [
           "#636efa",
           "#EF553B",
           "#00cc96",
           "#ab63fa",
           "#FFA15A",
           "#19d3f3",
           "#FF6692",
           "#B6E880",
           "#FF97FF",
           "#FECB52"
          ],
          "font": {
           "color": "#2a3f5f"
          },
          "geo": {
           "bgcolor": "white",
           "lakecolor": "white",
           "landcolor": "#E5ECF6",
           "showlakes": true,
           "showland": true,
           "subunitcolor": "white"
          },
          "hoverlabel": {
           "align": "left"
          },
          "hovermode": "closest",
          "mapbox": {
           "style": "light"
          },
          "paper_bgcolor": "white",
          "plot_bgcolor": "#E5ECF6",
          "polar": {
           "angularaxis": {
            "gridcolor": "white",
            "linecolor": "white",
            "ticks": ""
           },
           "bgcolor": "#E5ECF6",
           "radialaxis": {
            "gridcolor": "white",
            "linecolor": "white",
            "ticks": ""
           }
          },
          "scene": {
           "xaxis": {
            "backgroundcolor": "#E5ECF6",
            "gridcolor": "white",
            "gridwidth": 2,
            "linecolor": "white",
            "showbackground": true,
            "ticks": "",
            "zerolinecolor": "white"
           },
           "yaxis": {
            "backgroundcolor": "#E5ECF6",
            "gridcolor": "white",
            "gridwidth": 2,
            "linecolor": "white",
            "showbackground": true,
            "ticks": "",
            "zerolinecolor": "white"
           },
           "zaxis": {
            "backgroundcolor": "#E5ECF6",
            "gridcolor": "white",
            "gridwidth": 2,
            "linecolor": "white",
            "showbackground": true,
            "ticks": "",
            "zerolinecolor": "white"
           }
          },
          "shapedefaults": {
           "line": {
            "color": "#2a3f5f"
           }
          },
          "ternary": {
           "aaxis": {
            "gridcolor": "white",
            "linecolor": "white",
            "ticks": ""
           },
           "baxis": {
            "gridcolor": "white",
            "linecolor": "white",
            "ticks": ""
           },
           "bgcolor": "#E5ECF6",
           "caxis": {
            "gridcolor": "white",
            "linecolor": "white",
            "ticks": ""
           }
          },
          "title": {
           "x": 0.05
          },
          "xaxis": {
           "automargin": true,
           "gridcolor": "white",
           "linecolor": "white",
           "ticks": "",
           "title": {
            "standoff": 15
           },
           "zerolinecolor": "white",
           "zerolinewidth": 2
          },
          "yaxis": {
           "automargin": true,
           "gridcolor": "white",
           "linecolor": "white",
           "ticks": "",
           "title": {
            "standoff": 15
           },
           "zerolinecolor": "white",
           "zerolinewidth": 2
          }
         }
        },
        "title": {
         "text": "BMW, sampled 1h"
        },
        "xaxis": {
         "anchor": "y",
         "domain": [
          0,
          0.94
         ]
        },
        "yaxis": {
         "anchor": "x",
         "domain": [
          0,
          1
         ]
        },
        "yaxis2": {
         "anchor": "x",
         "overlaying": "y",
         "side": "right"
        }
       }
      },
      "text/html": [
       "<div>\n",
       "        \n",
       "        \n",
       "            <div id=\"d5854af5-c349-4039-a2b0-5bbb93f4e05d\" class=\"plotly-graph-div\" style=\"height:525px; width:100%;\"></div>\n",
       "            <script type=\"text/javascript\">\n",
       "                require([\"plotly\"], function(Plotly) {\n",
       "                    window.PLOTLYENV=window.PLOTLYENV || {};\n",
       "                    \n",
       "                if (document.getElementById(\"d5854af5-c349-4039-a2b0-5bbb93f4e05d\")) {\n",
       "                    Plotly.newPlot(\n",
       "                        'd5854af5-c349-4039-a2b0-5bbb93f4e05d',\n",
       "                        [{\"name\": \"PriceChange\", \"type\": \"scatter\", \"x\": [\"2020-08-03T07:00:00\", \"2020-08-03T08:00:00\", \"2020-08-03T09:00:00\", \"2020-08-03T10:00:00\", \"2020-08-03T11:00:00\", \"2020-08-03T12:00:00\", \"2020-08-03T13:00:00\", \"2020-08-03T14:00:00\", \"2020-08-03T15:00:00\", \"2020-08-04T07:00:00\", \"2020-08-04T08:00:00\", \"2020-08-04T09:00:00\", \"2020-08-04T10:00:00\", \"2020-08-04T11:00:00\", \"2020-08-04T12:00:00\", \"2020-08-04T13:00:00\", \"2020-08-04T14:00:00\", \"2020-08-04T15:00:00\", \"2020-08-05T07:00:00\", \"2020-08-05T08:00:00\", \"2020-08-05T09:00:00\", \"2020-08-05T10:00:00\", \"2020-08-05T11:00:00\", \"2020-08-05T12:00:00\", \"2020-08-05T13:00:00\", \"2020-08-05T14:00:00\", \"2020-08-05T15:00:00\", \"2020-08-06T07:00:00\", \"2020-08-06T08:00:00\", \"2020-08-06T09:00:00\", \"2020-08-06T10:00:00\", \"2020-08-06T11:00:00\", \"2020-08-06T12:00:00\", \"2020-08-06T13:00:00\", \"2020-08-06T14:00:00\", \"2020-08-06T15:00:00\", \"2020-08-07T07:00:00\", \"2020-08-07T08:00:00\", \"2020-08-07T09:00:00\", \"2020-08-07T10:00:00\", \"2020-08-07T11:00:00\", \"2020-08-07T12:00:00\", \"2020-08-07T13:00:00\", \"2020-08-07T14:00:00\", \"2020-08-07T15:00:00\", \"2020-08-10T07:00:00\", \"2020-08-10T08:00:00\", \"2020-08-10T09:00:00\", \"2020-08-10T10:00:00\", \"2020-08-10T11:00:00\", \"2020-08-10T12:00:00\", \"2020-08-10T13:00:00\", \"2020-08-10T14:00:00\", \"2020-08-10T15:00:00\", \"2020-08-11T07:00:00\", \"2020-08-11T08:00:00\", \"2020-08-11T09:00:00\", \"2020-08-11T10:00:00\", \"2020-08-11T11:00:00\", \"2020-08-11T12:00:00\", \"2020-08-11T13:00:00\", \"2020-08-11T14:00:00\", \"2020-08-11T15:00:00\", \"2020-08-12T07:00:00\", \"2020-08-12T08:00:00\", \"2020-08-12T09:00:00\", \"2020-08-12T10:00:00\", \"2020-08-12T11:00:00\", \"2020-08-12T12:00:00\", \"2020-08-12T13:00:00\", \"2020-08-12T14:00:00\", \"2020-08-12T15:00:00\", \"2020-08-13T07:00:00\", \"2020-08-13T08:00:00\", \"2020-08-13T09:00:00\", \"2020-08-13T10:00:00\", \"2020-08-13T11:00:00\", \"2020-08-13T12:00:00\", \"2020-08-13T13:00:00\", \"2020-08-13T14:00:00\", \"2020-08-13T15:00:00\", \"2020-08-14T07:00:00\", \"2020-08-14T08:00:00\", \"2020-08-14T09:00:00\", \"2020-08-14T10:00:00\", \"2020-08-14T11:00:00\", \"2020-08-14T12:00:00\", \"2020-08-14T13:00:00\", \"2020-08-14T14:00:00\", \"2020-08-14T15:00:00\", \"2020-08-17T07:00:00\", \"2020-08-17T08:00:00\", \"2020-08-17T09:00:00\", \"2020-08-17T10:00:00\", \"2020-08-17T11:00:00\", \"2020-08-17T12:00:00\", \"2020-08-17T13:00:00\", \"2020-08-17T14:00:00\", \"2020-08-17T15:00:00\", \"2020-08-18T07:00:00\", \"2020-08-18T08:00:00\", \"2020-08-18T09:00:00\", \"2020-08-18T10:00:00\", \"2020-08-18T11:00:00\", \"2020-08-18T12:00:00\", \"2020-08-18T13:00:00\", \"2020-08-18T14:00:00\", \"2020-08-18T15:00:00\", \"2020-08-19T07:00:00\", \"2020-08-19T08:00:00\", \"2020-08-19T09:00:00\", \"2020-08-19T10:00:00\", \"2020-08-19T11:00:00\", \"2020-08-19T12:00:00\", \"2020-08-19T13:00:00\", \"2020-08-19T14:00:00\", \"2020-08-19T15:00:00\", \"2020-08-20T07:00:00\", \"2020-08-20T08:00:00\", \"2020-08-20T09:00:00\", \"2020-08-20T10:00:00\", \"2020-08-20T11:00:00\", \"2020-08-20T12:00:00\", \"2020-08-20T13:00:00\", \"2020-08-20T14:00:00\", \"2020-08-20T15:00:00\", \"2020-08-21T07:00:00\", \"2020-08-21T08:00:00\", \"2020-08-21T09:00:00\", \"2020-08-21T10:00:00\", \"2020-08-21T11:00:00\", \"2020-08-21T12:00:00\", \"2020-08-21T13:00:00\", \"2020-08-21T14:00:00\", \"2020-08-21T15:00:00\", \"2020-08-24T07:00:00\", \"2020-08-24T08:00:00\", \"2020-08-24T09:00:00\", \"2020-08-24T10:00:00\", \"2020-08-24T11:00:00\", \"2020-08-24T12:00:00\", \"2020-08-24T13:00:00\", \"2020-08-24T14:00:00\", \"2020-08-24T15:00:00\"], \"y\": [0.6400000000000219, 0.1999999999999602, 0.22999999999997556, 0.4599999999999511, 0.38999999999997925, 0.09999999999998721, 0.08999999999996788, 0.1600000000000037, 0.1600000000000037, 0.3199999999999932, 0.6999999999999815, -0.27000000000001023, -0.12000000000000455, -0.2600000000000193, -0.29000000000000625, 0.11999999999999034, 0.15999999999996106, -0.1599999999999966, 0.5100000000000051, -0.2499999999999929, -0.10999999999999943, -0.2500000000000213, 0.060000000000002274, -0.1899999999999622, -0.12000000000000455, 0.27000000000003865, 0.3199999999999861, -0.6299999999999883, 0.2499999999999929, 0.21000000000002927, -0.5399999999999636, -0.06999999999998607, 0.2700000000000031, 0.10000000000000142, 0.17000000000001592, 0.1700000000000017, -0.2699999999999747, -0.03999999999999204, -0.15999999999998948, 0.3400000000000176, -0.04000000000000625, 0.20999999999999375, 0.2300000000000466, 0.14000000000000057, -0.020000000000010232, -0.2600000000000193, 0.05999999999999517, 0.0999999999999801, 0.3700000000000472, -0.4600000000000364, -0.02999999999997982, 0.0800000000000054, -0.020000000000010232, 0.07000000000000028, 1.0600000000000236, 0.2500000000000071, 0.20000000000002416, -0.04000000000000625, 3.552713678800501e-14, 0.1699999999999946, -0.46999999999998465, -0.30000000000001137, 0.2400000000000162, 0.16999999999995197, 0.1500000000000341, 0.22999999999999687, 0.21000000000002217, -0.10999999999999943, 0.22000000000002018, -0.240000000000002, -0.020000000000017337, -0.15000000000000568, 0.7700000000000315, -0.16000000000003922, -0.1600000000000037, -0.2699999999999818, -0.13000000000002387, -0.25, -0.13000000000000256, -0.329999999999977, 0.0799999999999983, -0.6699999999999804, -0.5599999999999596, 0.18000000000002814, -0.09000000000000341, 0.12000000000001876, -0.10000000000002274, 0.029999999999986926, -0.1600000000000108, 0.06999999999999318, 0.12999999999999545, -0.18999999999998352, -0.15999999999996817, 0.039999999999970726, -0.23000000000000398, -0.040000000000020464, -0.17999999999999972, -0.18999999999998352, 0.07000000000000028, -0.18999999999998352, -0.010000000000019327, 0.38000000000000256, 0.19999999999997442, -0.060000000000002274, 0.019999999999974705, -0.3500000000000085, -0.20000000000002416, 0.07999999999998408, 0.29999999999996163, 0.18000000000000682, 0.07000000000000739, -0.11999999999999744, -0.1500000000000128, 0.04000000000000625, 0.28999999999999915, 0.18000000000000682, -0.02999999999999403, 0.040000000000020464, -0.259999999999998, -0.05000000000001137, 0.20000000000000284, -0.05999999999998806, 0.010000000000005116, 0.1400000000000361, -0.04999999999999716, 0.06000000000000938, 0.06999999999998607, -0.19000000000000483, -0.12999999999998835, -0.1700000000000017, -0.2699999999999747, -0.38999999999998636, 0.23000000000001108, -0.02999999999997982, -0.07999999999998408, 0.3100000000000094, 0.030000000000001137, 0.020000000000003126, 0.13000000000003098, 0.1899999999999622, -0.13000000000000256, -0.10999999999999233, 0.5600000000000165, 0.0899999999999963]}, {\"marker\": {\"color\": \"blue\"}, \"name\": \"Volume\", \"opacity\": 0.3, \"type\": \"bar\", \"x\": [\"2020-08-03T07:00:00\", \"2020-08-03T08:00:00\", \"2020-08-03T09:00:00\", \"2020-08-03T10:00:00\", \"2020-08-03T11:00:00\", \"2020-08-03T12:00:00\", \"2020-08-03T13:00:00\", \"2020-08-03T14:00:00\", \"2020-08-03T15:00:00\", \"2020-08-04T07:00:00\", \"2020-08-04T08:00:00\", \"2020-08-04T09:00:00\", \"2020-08-04T10:00:00\", \"2020-08-04T11:00:00\", \"2020-08-04T12:00:00\", \"2020-08-04T13:00:00\", \"2020-08-04T14:00:00\", \"2020-08-04T15:00:00\", \"2020-08-05T07:00:00\", \"2020-08-05T08:00:00\", \"2020-08-05T09:00:00\", \"2020-08-05T10:00:00\", \"2020-08-05T11:00:00\", \"2020-08-05T12:00:00\", \"2020-08-05T13:00:00\", \"2020-08-05T14:00:00\", \"2020-08-05T15:00:00\", \"2020-08-06T07:00:00\", \"2020-08-06T08:00:00\", \"2020-08-06T09:00:00\", \"2020-08-06T10:00:00\", \"2020-08-06T11:00:00\", \"2020-08-06T12:00:00\", \"2020-08-06T13:00:00\", \"2020-08-06T14:00:00\", \"2020-08-06T15:00:00\", \"2020-08-07T07:00:00\", \"2020-08-07T08:00:00\", \"2020-08-07T09:00:00\", \"2020-08-07T10:00:00\", \"2020-08-07T11:00:00\", \"2020-08-07T12:00:00\", \"2020-08-07T13:00:00\", \"2020-08-07T14:00:00\", \"2020-08-07T15:00:00\", \"2020-08-10T07:00:00\", \"2020-08-10T08:00:00\", \"2020-08-10T09:00:00\", \"2020-08-10T10:00:00\", \"2020-08-10T11:00:00\", \"2020-08-10T12:00:00\", \"2020-08-10T13:00:00\", \"2020-08-10T14:00:00\", \"2020-08-10T15:00:00\", \"2020-08-11T07:00:00\", \"2020-08-11T08:00:00\", \"2020-08-11T09:00:00\", \"2020-08-11T10:00:00\", \"2020-08-11T11:00:00\", \"2020-08-11T12:00:00\", \"2020-08-11T13:00:00\", \"2020-08-11T14:00:00\", \"2020-08-11T15:00:00\", \"2020-08-12T07:00:00\", \"2020-08-12T08:00:00\", \"2020-08-12T09:00:00\", \"2020-08-12T10:00:00\", \"2020-08-12T11:00:00\", \"2020-08-12T12:00:00\", \"2020-08-12T13:00:00\", \"2020-08-12T14:00:00\", \"2020-08-12T15:00:00\", \"2020-08-13T07:00:00\", \"2020-08-13T08:00:00\", \"2020-08-13T09:00:00\", \"2020-08-13T10:00:00\", \"2020-08-13T11:00:00\", \"2020-08-13T12:00:00\", \"2020-08-13T13:00:00\", \"2020-08-13T14:00:00\", \"2020-08-13T15:00:00\", \"2020-08-14T07:00:00\", \"2020-08-14T08:00:00\", \"2020-08-14T09:00:00\", \"2020-08-14T10:00:00\", \"2020-08-14T11:00:00\", \"2020-08-14T12:00:00\", \"2020-08-14T13:00:00\", \"2020-08-14T14:00:00\", \"2020-08-14T15:00:00\", \"2020-08-17T07:00:00\", \"2020-08-17T08:00:00\", \"2020-08-17T09:00:00\", \"2020-08-17T10:00:00\", \"2020-08-17T11:00:00\", \"2020-08-17T12:00:00\", \"2020-08-17T13:00:00\", \"2020-08-17T14:00:00\", \"2020-08-17T15:00:00\", \"2020-08-18T07:00:00\", \"2020-08-18T08:00:00\", \"2020-08-18T09:00:00\", \"2020-08-18T10:00:00\", \"2020-08-18T11:00:00\", \"2020-08-18T12:00:00\", \"2020-08-18T13:00:00\", \"2020-08-18T14:00:00\", \"2020-08-18T15:00:00\", \"2020-08-19T07:00:00\", \"2020-08-19T08:00:00\", \"2020-08-19T09:00:00\", \"2020-08-19T10:00:00\", \"2020-08-19T11:00:00\", \"2020-08-19T12:00:00\", \"2020-08-19T13:00:00\", \"2020-08-19T14:00:00\", \"2020-08-19T15:00:00\", \"2020-08-20T07:00:00\", \"2020-08-20T08:00:00\", \"2020-08-20T09:00:00\", \"2020-08-20T10:00:00\", \"2020-08-20T11:00:00\", \"2020-08-20T12:00:00\", \"2020-08-20T13:00:00\", \"2020-08-20T14:00:00\", \"2020-08-20T15:00:00\", \"2020-08-21T07:00:00\", \"2020-08-21T08:00:00\", \"2020-08-21T09:00:00\", \"2020-08-21T10:00:00\", \"2020-08-21T11:00:00\", \"2020-08-21T12:00:00\", \"2020-08-21T13:00:00\", \"2020-08-21T14:00:00\", \"2020-08-21T15:00:00\", \"2020-08-24T07:00:00\", \"2020-08-24T08:00:00\", \"2020-08-24T09:00:00\", \"2020-08-24T10:00:00\", \"2020-08-24T11:00:00\", \"2020-08-24T12:00:00\", \"2020-08-24T13:00:00\", \"2020-08-24T14:00:00\", \"2020-08-24T15:00:00\"], \"xaxis\": \"x\", \"y\": [266982.0, 149207.0, 243558.0, 100272.0, 81249.0, 69725.0, 121672.0, 205338.0, 574783.0, 318240.0, 182110.0, 81700.0, 72513.0, 42709.0, 107396.0, 139593.0, 151390.0, 777747.0, 482962.0, 268061.0, 122548.0, 155684.0, 150865.0, 208424.0, 205463.0, 320661.0, 1152444.0, 336437.0, 188237.0, 146656.0, 191182.0, 165736.0, 195950.0, 193929.0, 210634.0, 824977.0, 221515.0, 132313.0, 170504.0, 84164.0, 140614.0, 139587.0, 209943.0, 164995.0, 720932.0, 246828.0, 155194.0, 118303.0, 84232.0, 42210.0, 64313.0, 122310.0, 131199.0, 402753.0, 882752.0, 240418.0, 211597.0, 130587.0, 163693.0, 117951.0, 174863.0, 261433.0, 959610.0, 251926.0, 150134.0, 83087.0, 73231.0, 68749.0, 84696.0, 140448.0, 176460.0, 634563.0, 167853.0, 88435.0, 65577.0, 46332.0, 39321.0, 57484.0, 81341.0, 73645.0, 405930.0, 159306.0, 183196.0, 82294.0, 67454.0, 52402.0, 65346.0, 84530.0, 66312.0, 370606.0, 115382.0, 70826.0, 32440.0, 42772.0, 38631.0, 77489.0, 63311.0, 100892.0, 287635.0, 119839.0, 72134.0, 52773.0, 51825.0, 78626.0, 55541.0, 85050.0, 126079.0, 506272.0, 144268.0, 164817.0, 74196.0, 73142.0, 50314.0, 69412.0, 105572.0, 118915.0, 423642.0, 186007.0, 81890.0, 45760.0, 69523.0, 25303.0, 38987.0, 66175.0, 81554.0, 426387.0, 132773.0, 74294.0, 154133.0, 73340.0, 128507.0, 121230.0, 109407.0, 67633.0, 533772.0, 211851.0, 128209.0, 100093.0, 40461.0, 48652.0, 62524.0, 72579.0, 171017.0, 755912.0], \"yaxis\": \"y2\"}],\n",
       "                        {\"template\": {\"data\": {\"bar\": [{\"error_x\": {\"color\": \"#2a3f5f\"}, \"error_y\": {\"color\": \"#2a3f5f\"}, \"marker\": {\"line\": {\"color\": \"#E5ECF6\", \"width\": 0.5}}, \"type\": \"bar\"}], \"barpolar\": [{\"marker\": {\"line\": {\"color\": \"#E5ECF6\", \"width\": 0.5}}, \"type\": \"barpolar\"}], \"carpet\": [{\"aaxis\": {\"endlinecolor\": \"#2a3f5f\", \"gridcolor\": \"white\", \"linecolor\": \"white\", \"minorgridcolor\": \"white\", \"startlinecolor\": \"#2a3f5f\"}, \"baxis\": {\"endlinecolor\": \"#2a3f5f\", \"gridcolor\": \"white\", \"linecolor\": \"white\", \"minorgridcolor\": \"white\", \"startlinecolor\": \"#2a3f5f\"}, \"type\": \"carpet\"}], \"choropleth\": [{\"colorbar\": {\"outlinewidth\": 0, \"ticks\": \"\"}, \"type\": \"choropleth\"}], \"contour\": [{\"colorbar\": {\"outlinewidth\": 0, \"ticks\": \"\"}, \"colorscale\": [[0.0, \"#0d0887\"], [0.1111111111111111, \"#46039f\"], [0.2222222222222222, \"#7201a8\"], [0.3333333333333333, \"#9c179e\"], [0.4444444444444444, \"#bd3786\"], [0.5555555555555556, \"#d8576b\"], [0.6666666666666666, \"#ed7953\"], [0.7777777777777778, \"#fb9f3a\"], [0.8888888888888888, \"#fdca26\"], [1.0, \"#f0f921\"]], \"type\": \"contour\"}], \"contourcarpet\": [{\"colorbar\": {\"outlinewidth\": 0, \"ticks\": \"\"}, \"type\": \"contourcarpet\"}], \"heatmap\": [{\"colorbar\": {\"outlinewidth\": 0, \"ticks\": \"\"}, \"colorscale\": [[0.0, \"#0d0887\"], [0.1111111111111111, \"#46039f\"], [0.2222222222222222, \"#7201a8\"], [0.3333333333333333, \"#9c179e\"], [0.4444444444444444, \"#bd3786\"], [0.5555555555555556, \"#d8576b\"], [0.6666666666666666, \"#ed7953\"], [0.7777777777777778, \"#fb9f3a\"], [0.8888888888888888, \"#fdca26\"], [1.0, \"#f0f921\"]], \"type\": \"heatmap\"}], \"heatmapgl\": [{\"colorbar\": {\"outlinewidth\": 0, \"ticks\": \"\"}, \"colorscale\": [[0.0, \"#0d0887\"], [0.1111111111111111, \"#46039f\"], [0.2222222222222222, \"#7201a8\"], [0.3333333333333333, \"#9c179e\"], [0.4444444444444444, \"#bd3786\"], [0.5555555555555556, \"#d8576b\"], [0.6666666666666666, \"#ed7953\"], [0.7777777777777778, \"#fb9f3a\"], [0.8888888888888888, \"#fdca26\"], [1.0, \"#f0f921\"]], \"type\": \"heatmapgl\"}], \"histogram\": [{\"marker\": {\"colorbar\": {\"outlinewidth\": 0, \"ticks\": \"\"}}, \"type\": \"histogram\"}], \"histogram2d\": [{\"colorbar\": {\"outlinewidth\": 0, \"ticks\": \"\"}, \"colorscale\": [[0.0, \"#0d0887\"], [0.1111111111111111, \"#46039f\"], [0.2222222222222222, \"#7201a8\"], [0.3333333333333333, \"#9c179e\"], [0.4444444444444444, \"#bd3786\"], [0.5555555555555556, \"#d8576b\"], [0.6666666666666666, \"#ed7953\"], [0.7777777777777778, \"#fb9f3a\"], [0.8888888888888888, \"#fdca26\"], [1.0, \"#f0f921\"]], \"type\": \"histogram2d\"}], \"histogram2dcontour\": [{\"colorbar\": {\"outlinewidth\": 0, \"ticks\": \"\"}, \"colorscale\": [[0.0, \"#0d0887\"], [0.1111111111111111, \"#46039f\"], [0.2222222222222222, \"#7201a8\"], [0.3333333333333333, \"#9c179e\"], [0.4444444444444444, \"#bd3786\"], [0.5555555555555556, \"#d8576b\"], [0.6666666666666666, \"#ed7953\"], [0.7777777777777778, \"#fb9f3a\"], [0.8888888888888888, \"#fdca26\"], [1.0, \"#f0f921\"]], \"type\": \"histogram2dcontour\"}], \"mesh3d\": [{\"colorbar\": {\"outlinewidth\": 0, \"ticks\": \"\"}, \"type\": \"mesh3d\"}], \"parcoords\": [{\"line\": {\"colorbar\": {\"outlinewidth\": 0, \"ticks\": \"\"}}, \"type\": \"parcoords\"}], \"pie\": [{\"automargin\": true, \"type\": \"pie\"}], \"scatter\": [{\"marker\": {\"colorbar\": {\"outlinewidth\": 0, \"ticks\": \"\"}}, \"type\": \"scatter\"}], \"scatter3d\": [{\"line\": {\"colorbar\": {\"outlinewidth\": 0, \"ticks\": \"\"}}, \"marker\": {\"colorbar\": {\"outlinewidth\": 0, \"ticks\": \"\"}}, \"type\": \"scatter3d\"}], \"scattercarpet\": [{\"marker\": {\"colorbar\": {\"outlinewidth\": 0, \"ticks\": \"\"}}, \"type\": \"scattercarpet\"}], \"scattergeo\": [{\"marker\": {\"colorbar\": {\"outlinewidth\": 0, \"ticks\": \"\"}}, \"type\": \"scattergeo\"}], \"scattergl\": [{\"marker\": {\"colorbar\": {\"outlinewidth\": 0, \"ticks\": \"\"}}, \"type\": \"scattergl\"}], \"scattermapbox\": [{\"marker\": {\"colorbar\": {\"outlinewidth\": 0, \"ticks\": \"\"}}, \"type\": \"scattermapbox\"}], \"scatterpolar\": [{\"marker\": {\"colorbar\": {\"outlinewidth\": 0, \"ticks\": \"\"}}, \"type\": \"scatterpolar\"}], \"scatterpolargl\": [{\"marker\": {\"colorbar\": {\"outlinewidth\": 0, \"ticks\": \"\"}}, \"type\": \"scatterpolargl\"}], \"scatterternary\": [{\"marker\": {\"colorbar\": {\"outlinewidth\": 0, \"ticks\": \"\"}}, \"type\": \"scatterternary\"}], \"surface\": [{\"colorbar\": {\"outlinewidth\": 0, \"ticks\": \"\"}, \"colorscale\": [[0.0, \"#0d0887\"], [0.1111111111111111, \"#46039f\"], [0.2222222222222222, \"#7201a8\"], [0.3333333333333333, \"#9c179e\"], [0.4444444444444444, \"#bd3786\"], [0.5555555555555556, \"#d8576b\"], [0.6666666666666666, \"#ed7953\"], [0.7777777777777778, \"#fb9f3a\"], [0.8888888888888888, \"#fdca26\"], [1.0, \"#f0f921\"]], \"type\": \"surface\"}], \"table\": [{\"cells\": {\"fill\": {\"color\": \"#EBF0F8\"}, \"line\": {\"color\": \"white\"}}, \"header\": {\"fill\": {\"color\": \"#C8D4E3\"}, \"line\": {\"color\": \"white\"}}, \"type\": \"table\"}]}, \"layout\": {\"annotationdefaults\": {\"arrowcolor\": \"#2a3f5f\", \"arrowhead\": 0, \"arrowwidth\": 1}, \"coloraxis\": {\"colorbar\": {\"outlinewidth\": 0, \"ticks\": \"\"}}, \"colorscale\": {\"diverging\": [[0, \"#8e0152\"], [0.1, \"#c51b7d\"], [0.2, \"#de77ae\"], [0.3, \"#f1b6da\"], [0.4, \"#fde0ef\"], [0.5, \"#f7f7f7\"], [0.6, \"#e6f5d0\"], [0.7, \"#b8e186\"], [0.8, \"#7fbc41\"], [0.9, \"#4d9221\"], [1, \"#276419\"]], \"sequential\": [[0.0, \"#0d0887\"], [0.1111111111111111, \"#46039f\"], [0.2222222222222222, \"#7201a8\"], [0.3333333333333333, \"#9c179e\"], [0.4444444444444444, \"#bd3786\"], [0.5555555555555556, \"#d8576b\"], [0.6666666666666666, \"#ed7953\"], [0.7777777777777778, \"#fb9f3a\"], [0.8888888888888888, \"#fdca26\"], [1.0, \"#f0f921\"]], \"sequentialminus\": [[0.0, \"#0d0887\"], [0.1111111111111111, \"#46039f\"], [0.2222222222222222, \"#7201a8\"], [0.3333333333333333, \"#9c179e\"], [0.4444444444444444, \"#bd3786\"], [0.5555555555555556, \"#d8576b\"], [0.6666666666666666, \"#ed7953\"], [0.7777777777777778, \"#fb9f3a\"], [0.8888888888888888, \"#fdca26\"], [1.0, \"#f0f921\"]]}, \"colorway\": [\"#636efa\", \"#EF553B\", \"#00cc96\", \"#ab63fa\", \"#FFA15A\", \"#19d3f3\", \"#FF6692\", \"#B6E880\", \"#FF97FF\", \"#FECB52\"], \"font\": {\"color\": \"#2a3f5f\"}, \"geo\": {\"bgcolor\": \"white\", \"lakecolor\": \"white\", \"landcolor\": \"#E5ECF6\", \"showlakes\": true, \"showland\": true, \"subunitcolor\": \"white\"}, \"hoverlabel\": {\"align\": \"left\"}, \"hovermode\": \"closest\", \"mapbox\": {\"style\": \"light\"}, \"paper_bgcolor\": \"white\", \"plot_bgcolor\": \"#E5ECF6\", \"polar\": {\"angularaxis\": {\"gridcolor\": \"white\", \"linecolor\": \"white\", \"ticks\": \"\"}, \"bgcolor\": \"#E5ECF6\", \"radialaxis\": {\"gridcolor\": \"white\", \"linecolor\": \"white\", \"ticks\": \"\"}}, \"scene\": {\"xaxis\": {\"backgroundcolor\": \"#E5ECF6\", \"gridcolor\": \"white\", \"gridwidth\": 2, \"linecolor\": \"white\", \"showbackground\": true, \"ticks\": \"\", \"zerolinecolor\": \"white\"}, \"yaxis\": {\"backgroundcolor\": \"#E5ECF6\", \"gridcolor\": \"white\", \"gridwidth\": 2, \"linecolor\": \"white\", \"showbackground\": true, \"ticks\": \"\", \"zerolinecolor\": \"white\"}, \"zaxis\": {\"backgroundcolor\": \"#E5ECF6\", \"gridcolor\": \"white\", \"gridwidth\": 2, \"linecolor\": \"white\", \"showbackground\": true, \"ticks\": \"\", \"zerolinecolor\": \"white\"}}, \"shapedefaults\": {\"line\": {\"color\": \"#2a3f5f\"}}, \"ternary\": {\"aaxis\": {\"gridcolor\": \"white\", \"linecolor\": \"white\", \"ticks\": \"\"}, \"baxis\": {\"gridcolor\": \"white\", \"linecolor\": \"white\", \"ticks\": \"\"}, \"bgcolor\": \"#E5ECF6\", \"caxis\": {\"gridcolor\": \"white\", \"linecolor\": \"white\", \"ticks\": \"\"}}, \"title\": {\"x\": 0.05}, \"xaxis\": {\"automargin\": true, \"gridcolor\": \"white\", \"linecolor\": \"white\", \"ticks\": \"\", \"title\": {\"standoff\": 15}, \"zerolinecolor\": \"white\", \"zerolinewidth\": 2}, \"yaxis\": {\"automargin\": true, \"gridcolor\": \"white\", \"linecolor\": \"white\", \"ticks\": \"\", \"title\": {\"standoff\": 15}, \"zerolinecolor\": \"white\", \"zerolinewidth\": 2}}}, \"title\": {\"text\": \"BMW, sampled 1h\"}, \"xaxis\": {\"anchor\": \"y\", \"domain\": [0.0, 0.94]}, \"yaxis\": {\"anchor\": \"x\", \"domain\": [0.0, 1.0]}, \"yaxis2\": {\"anchor\": \"x\", \"overlaying\": \"y\", \"side\": \"right\"}},\n",
       "                        {\"responsive\": true}\n",
       "                    ).then(function(){\n",
       "                            \n",
       "var gd = document.getElementById('d5854af5-c349-4039-a2b0-5bbb93f4e05d');\n",
       "var x = new MutationObserver(function (mutations, observer) {{\n",
       "        var display = window.getComputedStyle(gd).display;\n",
       "        if (!display || display === 'none') {{\n",
       "            console.log([gd, 'removed!']);\n",
       "            Plotly.purge(gd);\n",
       "            observer.disconnect();\n",
       "        }}\n",
       "}});\n",
       "\n",
       "// Listen for the removal of the full notebook cells\n",
       "var notebookContainer = gd.closest('#notebook-container');\n",
       "if (notebookContainer) {{\n",
       "    x.observe(notebookContainer, {childList: true});\n",
       "}}\n",
       "\n",
       "// Listen for the clearing of the current output cell\n",
       "var outputEl = gd.closest('.output');\n",
       "if (outputEl) {{\n",
       "    x.observe(outputEl, {childList: true});\n",
       "}}\n",
       "\n",
       "                        })\n",
       "                };\n",
       "                });\n",
       "            </script>\n",
       "        </div>"
      ]
     },
     "metadata": {},
     "output_type": "display_data"
    }
   ],
   "source": [
    "lib.plot_security(df, 'BMW', {'PriceChange': 'sum'}, 'line', '1h', True)"
   ]
  },
  {
   "cell_type": "code",
   "execution_count": 25,
   "metadata": {},
   "outputs": [
    {
     "data": {
      "text/html": [
       "<div>\n",
       "<style scoped>\n",
       "    .dataframe tbody tr th:only-of-type {\n",
       "        vertical-align: middle;\n",
       "    }\n",
       "\n",
       "    .dataframe tbody tr th {\n",
       "        vertical-align: top;\n",
       "    }\n",
       "\n",
       "    .dataframe thead th {\n",
       "        text-align: right;\n",
       "    }\n",
       "</style>\n",
       "<table border=\"1\" class=\"dataframe\">\n",
       "  <thead>\n",
       "    <tr style=\"text-align: right;\">\n",
       "      <th></th>\n",
       "      <th>ISIN</th>\n",
       "      <th>Mnemonic</th>\n",
       "      <th>SecurityDesc</th>\n",
       "      <th>SecurityType</th>\n",
       "      <th>Currency</th>\n",
       "      <th>SecurityID</th>\n",
       "      <th>StartPrice</th>\n",
       "      <th>MaxPrice</th>\n",
       "      <th>MinPrice</th>\n",
       "      <th>EndPrice</th>\n",
       "      <th>TradedVolume</th>\n",
       "      <th>NumberOfTrades</th>\n",
       "      <th>PriceChange</th>\n",
       "    </tr>\n",
       "    <tr>\n",
       "      <th>CalcDateTime</th>\n",
       "      <th></th>\n",
       "      <th></th>\n",
       "      <th></th>\n",
       "      <th></th>\n",
       "      <th></th>\n",
       "      <th></th>\n",
       "      <th></th>\n",
       "      <th></th>\n",
       "      <th></th>\n",
       "      <th></th>\n",
       "      <th></th>\n",
       "      <th></th>\n",
       "      <th></th>\n",
       "    </tr>\n",
       "  </thead>\n",
       "  <tbody>\n",
       "    <tr>\n",
       "      <th>2020-08-03 07:00:00</th>\n",
       "      <td>DE0005190003</td>\n",
       "      <td>BMW</td>\n",
       "      <td>BAY.MOTOREN WERKE AG ST</td>\n",
       "      <td>Common stock</td>\n",
       "      <td>EUR</td>\n",
       "      <td>2504900</td>\n",
       "      <td>54.70</td>\n",
       "      <td>54.85</td>\n",
       "      <td>54.58</td>\n",
       "      <td>54.68</td>\n",
       "      <td>30003.0</td>\n",
       "      <td>57.0</td>\n",
       "      <td>-0.02</td>\n",
       "    </tr>\n",
       "    <tr>\n",
       "      <th>2020-08-03 07:01:00</th>\n",
       "      <td>DE0005190003</td>\n",
       "      <td>BMW</td>\n",
       "      <td>BAY.MOTOREN WERKE AG ST</td>\n",
       "      <td>Common stock</td>\n",
       "      <td>EUR</td>\n",
       "      <td>2504900</td>\n",
       "      <td>54.73</td>\n",
       "      <td>54.77</td>\n",
       "      <td>54.45</td>\n",
       "      <td>54.45</td>\n",
       "      <td>2543.0</td>\n",
       "      <td>22.0</td>\n",
       "      <td>-0.28</td>\n",
       "    </tr>\n",
       "    <tr>\n",
       "      <th>2020-08-03 07:02:00</th>\n",
       "      <td>DE0005190003</td>\n",
       "      <td>BMW</td>\n",
       "      <td>BAY.MOTOREN WERKE AG ST</td>\n",
       "      <td>Common stock</td>\n",
       "      <td>EUR</td>\n",
       "      <td>2504900</td>\n",
       "      <td>54.48</td>\n",
       "      <td>54.64</td>\n",
       "      <td>54.47</td>\n",
       "      <td>54.64</td>\n",
       "      <td>3233.0</td>\n",
       "      <td>21.0</td>\n",
       "      <td>0.16</td>\n",
       "    </tr>\n",
       "    <tr>\n",
       "      <th>2020-08-03 07:03:00</th>\n",
       "      <td>DE0005190003</td>\n",
       "      <td>BMW</td>\n",
       "      <td>BAY.MOTOREN WERKE AG ST</td>\n",
       "      <td>Common stock</td>\n",
       "      <td>EUR</td>\n",
       "      <td>2504900</td>\n",
       "      <td>54.58</td>\n",
       "      <td>54.59</td>\n",
       "      <td>54.42</td>\n",
       "      <td>54.47</td>\n",
       "      <td>7861.0</td>\n",
       "      <td>30.0</td>\n",
       "      <td>-0.11</td>\n",
       "    </tr>\n",
       "    <tr>\n",
       "      <th>2020-08-03 07:04:00</th>\n",
       "      <td>DE0005190003</td>\n",
       "      <td>BMW</td>\n",
       "      <td>BAY.MOTOREN WERKE AG ST</td>\n",
       "      <td>Common stock</td>\n",
       "      <td>EUR</td>\n",
       "      <td>2504900</td>\n",
       "      <td>54.50</td>\n",
       "      <td>54.70</td>\n",
       "      <td>54.50</td>\n",
       "      <td>54.64</td>\n",
       "      <td>3341.0</td>\n",
       "      <td>28.0</td>\n",
       "      <td>0.14</td>\n",
       "    </tr>\n",
       "  </tbody>\n",
       "</table>\n",
       "</div>"
      ],
      "text/plain": [
       "                             ISIN Mnemonic             SecurityDesc  \\\n",
       "CalcDateTime                                                          \n",
       "2020-08-03 07:00:00  DE0005190003      BMW  BAY.MOTOREN WERKE AG ST   \n",
       "2020-08-03 07:01:00  DE0005190003      BMW  BAY.MOTOREN WERKE AG ST   \n",
       "2020-08-03 07:02:00  DE0005190003      BMW  BAY.MOTOREN WERKE AG ST   \n",
       "2020-08-03 07:03:00  DE0005190003      BMW  BAY.MOTOREN WERKE AG ST   \n",
       "2020-08-03 07:04:00  DE0005190003      BMW  BAY.MOTOREN WERKE AG ST   \n",
       "\n",
       "                     SecurityType Currency SecurityID  StartPrice  MaxPrice  \\\n",
       "CalcDateTime                                                                  \n",
       "2020-08-03 07:00:00  Common stock      EUR    2504900       54.70     54.85   \n",
       "2020-08-03 07:01:00  Common stock      EUR    2504900       54.73     54.77   \n",
       "2020-08-03 07:02:00  Common stock      EUR    2504900       54.48     54.64   \n",
       "2020-08-03 07:03:00  Common stock      EUR    2504900       54.58     54.59   \n",
       "2020-08-03 07:04:00  Common stock      EUR    2504900       54.50     54.70   \n",
       "\n",
       "                     MinPrice  EndPrice  TradedVolume  NumberOfTrades  \\\n",
       "CalcDateTime                                                            \n",
       "2020-08-03 07:00:00     54.58     54.68       30003.0            57.0   \n",
       "2020-08-03 07:01:00     54.45     54.45        2543.0            22.0   \n",
       "2020-08-03 07:02:00     54.47     54.64        3233.0            21.0   \n",
       "2020-08-03 07:03:00     54.42     54.47        7861.0            30.0   \n",
       "2020-08-03 07:04:00     54.50     54.64        3341.0            28.0   \n",
       "\n",
       "                     PriceChange  \n",
       "CalcDateTime                      \n",
       "2020-08-03 07:00:00        -0.02  \n",
       "2020-08-03 07:01:00        -0.28  \n",
       "2020-08-03 07:02:00         0.16  \n",
       "2020-08-03 07:03:00        -0.11  \n",
       "2020-08-03 07:04:00         0.14  "
      ]
     },
     "execution_count": 25,
     "metadata": {},
     "output_type": "execute_result"
    }
   ],
   "source": [
    "df_ = df[df.Mnemonic == 'BMW']\n",
    "df_.head()"
   ]
  },
  {
   "cell_type": "code",
   "execution_count": 27,
   "metadata": {},
   "outputs": [
    {
     "data": {
      "text/plain": [
       "(1092436, 13)"
      ]
     },
     "execution_count": 27,
     "metadata": {},
     "output_type": "execute_result"
    }
   ],
   "source": [
    "df.between_time('08:00', '16:00').shape"
   ]
  },
  {
   "cell_type": "code",
   "execution_count": 28,
   "metadata": {},
   "outputs": [
    {
     "data": {
      "text/plain": [
       "(1281239, 13)"
      ]
     },
     "execution_count": 28,
     "metadata": {},
     "output_type": "execute_result"
    }
   ],
   "source": [
    "df.shape"
   ]
  },
  {
   "cell_type": "markdown",
   "metadata": {},
   "source": [
    "Is there a pattern in days where the market opens much higher/lower wrt to last closing price? "
   ]
  },
  {
   "cell_type": "code",
   "execution_count": 15,
   "metadata": {},
   "outputs": [],
   "source": [
    "ohlcv_dict = {'StartPrice':'first', 'MaxPrice':'max', 'MinPrice':'min', 'EndPrice': 'last', \n",
    "          'TradedVolume': 'sum', 'NumberOfTrades': 'sum'}"
   ]
  },
  {
   "cell_type": "code",
   "execution_count": 24,
   "metadata": {},
   "outputs": [
    {
     "data": {
      "text/html": [
       "<div>\n",
       "<style scoped>\n",
       "    .dataframe tbody tr th:only-of-type {\n",
       "        vertical-align: middle;\n",
       "    }\n",
       "\n",
       "    .dataframe tbody tr th {\n",
       "        vertical-align: top;\n",
       "    }\n",
       "\n",
       "    .dataframe thead th {\n",
       "        text-align: right;\n",
       "    }\n",
       "</style>\n",
       "<table border=\"1\" class=\"dataframe\">\n",
       "  <thead>\n",
       "    <tr style=\"text-align: right;\">\n",
       "      <th></th>\n",
       "      <th>StartPrice</th>\n",
       "      <th>MaxPrice</th>\n",
       "      <th>MinPrice</th>\n",
       "      <th>EndPrice</th>\n",
       "      <th>TradedVolume</th>\n",
       "      <th>NumberOfTrades</th>\n",
       "    </tr>\n",
       "    <tr>\n",
       "      <th>CalcDateTime</th>\n",
       "      <th></th>\n",
       "      <th></th>\n",
       "      <th></th>\n",
       "      <th></th>\n",
       "      <th></th>\n",
       "      <th></th>\n",
       "    </tr>\n",
       "  </thead>\n",
       "  <tbody>\n",
       "    <tr>\n",
       "      <th>2020-08-03</th>\n",
       "      <td>54.70</td>\n",
       "      <td>56.61</td>\n",
       "      <td>54.42</td>\n",
       "      <td>56.21</td>\n",
       "      <td>1812786.0</td>\n",
       "      <td>10217.0</td>\n",
       "    </tr>\n",
       "    <tr>\n",
       "      <th>2020-08-04</th>\n",
       "      <td>57.09</td>\n",
       "      <td>58.14</td>\n",
       "      <td>56.96</td>\n",
       "      <td>58.14</td>\n",
       "      <td>1873398.0</td>\n",
       "      <td>8600.0</td>\n",
       "    </tr>\n",
       "    <tr>\n",
       "      <th>2020-08-05</th>\n",
       "      <td>56.50</td>\n",
       "      <td>56.93</td>\n",
       "      <td>55.32</td>\n",
       "      <td>56.13</td>\n",
       "      <td>3067112.0</td>\n",
       "      <td>12735.0</td>\n",
       "    </tr>\n",
       "    <tr>\n",
       "      <th>2020-08-06</th>\n",
       "      <td>55.98</td>\n",
       "      <td>56.23</td>\n",
       "      <td>54.75</td>\n",
       "      <td>55.23</td>\n",
       "      <td>2453738.0</td>\n",
       "      <td>11765.0</td>\n",
       "    </tr>\n",
       "    <tr>\n",
       "      <th>2020-08-07</th>\n",
       "      <td>55.16</td>\n",
       "      <td>55.40</td>\n",
       "      <td>54.30</td>\n",
       "      <td>54.90</td>\n",
       "      <td>1984567.0</td>\n",
       "      <td>8735.0</td>\n",
       "    </tr>\n",
       "  </tbody>\n",
       "</table>\n",
       "</div>"
      ],
      "text/plain": [
       "              StartPrice  MaxPrice  MinPrice  EndPrice  TradedVolume  \\\n",
       "CalcDateTime                                                           \n",
       "2020-08-03         54.70     56.61     54.42     56.21     1812786.0   \n",
       "2020-08-04         57.09     58.14     56.96     58.14     1873398.0   \n",
       "2020-08-05         56.50     56.93     55.32     56.13     3067112.0   \n",
       "2020-08-06         55.98     56.23     54.75     55.23     2453738.0   \n",
       "2020-08-07         55.16     55.40     54.30     54.90     1984567.0   \n",
       "\n",
       "              NumberOfTrades  \n",
       "CalcDateTime                  \n",
       "2020-08-03           10217.0  \n",
       "2020-08-04            8600.0  \n",
       "2020-08-05           12735.0  \n",
       "2020-08-06           11765.0  \n",
       "2020-08-07            8735.0  "
      ]
     },
     "execution_count": 24,
     "metadata": {},
     "output_type": "execute_result"
    }
   ],
   "source": [
    "daily_df = df_.resample('D').apply(ohlcv_dict)\n",
    "daily_df.dropna(inplace=True)\n",
    "daily_df.head()"
   ]
  },
  {
   "cell_type": "code",
   "execution_count": null,
   "metadata": {},
   "outputs": [],
   "source": []
  }
 ],
 "metadata": {
  "environment": {
   "name": "pytorch-gpu.1-4.m46",
   "type": "gcloud",
   "uri": "gcr.io/deeplearning-platform-release/pytorch-gpu.1-4:m46"
  },
  "kernelspec": {
   "display_name": "Python 3",
   "language": "python",
   "name": "python3"
  },
  "language_info": {
   "codemirror_mode": {
    "name": "ipython",
    "version": 3
   },
   "file_extension": ".py",
   "mimetype": "text/x-python",
   "name": "python",
   "nbconvert_exporter": "python",
   "pygments_lexer": "ipython3",
   "version": "3.7.8"
  }
 },
 "nbformat": 4,
 "nbformat_minor": 4
}
