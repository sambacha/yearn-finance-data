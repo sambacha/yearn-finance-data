{
 "cells": [
  {
   "cell_type": "markdown",
   "metadata": {},
   "source": [
    "# Fetching the Data\n",
    "Downloading DB's data from S3: first show the data available for a particular day"
   ]
  },
  {
   "cell_type": "code",
   "execution_count": 1,
   "metadata": {
    "collapsed": true
   },
   "outputs": [],
   "source": [
    "date = '2018-06-21'"
   ]
  },
  {
   "cell_type": "code",
   "execution_count": 2,
   "metadata": {},
   "outputs": [
    {
     "name": "stdout",
     "output_type": "stream",
     "text": [
      "2018-06-22 03:01:39        136 2018-06-21_BINS_XETR00.csv\n",
      "2018-06-22 03:01:39        136 2018-06-21_BINS_XETR01.csv\n",
      "2018-06-22 03:01:40        136 2018-06-21_BINS_XETR02.csv\n",
      "2018-06-22 03:01:41        136 2018-06-21_BINS_XETR03.csv\n",
      "2018-06-22 03:01:41        583 2018-06-21_BINS_XETR04.csv\n",
      "2018-06-22 03:01:42        136 2018-06-21_BINS_XETR05.csv\n",
      "2018-06-22 03:01:43        136 2018-06-21_BINS_XETR06.csv\n",
      "2018-06-22 03:01:44     908415 2018-06-21_BINS_XETR07.csv\n",
      "2018-06-22 03:01:45     853057 2018-06-21_BINS_XETR08.csv\n",
      "2018-06-22 03:01:45     961496 2018-06-21_BINS_XETR09.csv\n",
      "2018-06-22 03:01:46     869619 2018-06-21_BINS_XETR10.csv\n",
      "2018-06-22 03:01:47     741987 2018-06-21_BINS_XETR11.csv\n",
      "2018-06-22 03:01:48     787847 2018-06-21_BINS_XETR12.csv\n",
      "2018-06-22 03:01:49     929046 2018-06-21_BINS_XETR13.csv\n",
      "2018-06-22 03:01:50    1109363 2018-06-21_BINS_XETR14.csv\n",
      "2018-06-22 03:01:51     681503 2018-06-21_BINS_XETR15.csv\n",
      "2018-06-22 03:01:52        136 2018-06-21_BINS_XETR16.csv\n",
      "2018-06-22 03:01:53        136 2018-06-21_BINS_XETR17.csv\n",
      "2018-06-22 03:01:54        136 2018-06-21_BINS_XETR18.csv\n",
      "2018-06-22 03:01:54       2656 2018-06-21_BINS_XETR19.csv\n",
      "2018-06-22 03:01:55        136 2018-06-21_BINS_XETR20.csv\n",
      "2018-06-22 03:01:57        136 2018-06-21_BINS_XETR21.csv\n",
      "2018-06-22 03:01:57        136 2018-06-21_BINS_XETR22.csv\n",
      "2018-06-22 03:01:58        136 2018-06-21_BINS_XETR23.csv\n"
     ]
    }
   ],
   "source": [
    "! aws s3 ls s3://deutsche-boerse-xetra-pds/{date}/ --no-sign-request"
   ]
  },
  {
   "cell_type": "code",
   "execution_count": 3,
   "metadata": {},
   "outputs": [
    {
     "name": "stderr",
     "output_type": "stream",
     "text": [
      "The syntax of the command is incorrect.\n"
     ]
    },
    {
     "name": "stdout",
     "output_type": "stream",
     "text": [
      "Completed 136 Bytes/7.5 MiB (195 Bytes/s) with 24 file(s) remaining\n",
      "Completed 272 Bytes/7.5 MiB (388 Bytes/s) with 24 file(s) remaining\n",
      "download: s3://deutsche-boerse-xetra-pds/2018-06-21/2018-06-21_BINS_XETR01.csv to ..\\..\\..\\data\\deutsche-boerse-xetra-pds\\2018-06-21\\2018-06-21_BINS_XETR01.csv\n",
      "Completed 272 Bytes/7.5 MiB (388 Bytes/s) with 23 file(s) remaining\n",
      "download: s3://deutsche-boerse-xetra-pds/2018-06-21/2018-06-21_BINS_XETR06.csv to ..\\..\\..\\data\\deutsche-boerse-xetra-pds\\2018-06-21\\2018-06-21_BINS_XETR06.csv\n",
      "Completed 272 Bytes/7.5 MiB (388 Bytes/s) with 22 file(s) remaining\n",
      "Completed 408 Bytes/7.5 MiB (571 Bytes/s) with 22 file(s) remaining\n",
      "Completed 544 Bytes/7.5 MiB (756 Bytes/s) with 22 file(s) remaining\n",
      "Completed 680 Bytes/7.5 MiB (932 Bytes/s) with 22 file(s) remaining\n",
      "download: s3://deutsche-boerse-xetra-pds/2018-06-21/2018-06-21_BINS_XETR00.csv to ..\\..\\..\\data\\deutsche-boerse-xetra-pds\\2018-06-21\\2018-06-21_BINS_XETR00.csv\n",
      "Completed 680 Bytes/7.5 MiB (932 Bytes/s) with 21 file(s) remaining\n",
      "download: s3://deutsche-boerse-xetra-pds/2018-06-21/2018-06-21_BINS_XETR05.csv to ..\\..\\..\\data\\deutsche-boerse-xetra-pds\\2018-06-21\\2018-06-21_BINS_XETR05.csv\n",
      "Completed 680 Bytes/7.5 MiB (932 Bytes/s) with 20 file(s) remaining\n",
      "download: s3://deutsche-boerse-xetra-pds/2018-06-21/2018-06-21_BINS_XETR03.csv to ..\\..\\..\\data\\deutsche-boerse-xetra-pds\\2018-06-21\\2018-06-21_BINS_XETR03.csv\n",
      "Completed 680 Bytes/7.5 MiB (932 Bytes/s) with 19 file(s) remaining\n",
      "Completed 816 Bytes/7.5 MiB (486 Bytes/s) with 19 file(s) remaining\n",
      "download: s3://deutsche-boerse-xetra-pds/2018-06-21/2018-06-21_BINS_XETR02.csv to ..\\..\\..\\data\\deutsche-boerse-xetra-pds\\2018-06-21\\2018-06-21_BINS_XETR02.csv\n",
      "Completed 816 Bytes/7.5 MiB (486 Bytes/s) with 18 file(s) remaining\n",
      "Completed 1.4 KiB/7.5 MiB (825 Bytes/s) with 18 file(s) remaining  \n",
      "download: s3://deutsche-boerse-xetra-pds/2018-06-21/2018-06-21_BINS_XETR04.csv to ..\\..\\..\\data\\deutsche-boerse-xetra-pds\\2018-06-21\\2018-06-21_BINS_XETR04.csv\n",
      "Completed 1.4 KiB/7.5 MiB (825 Bytes/s) with 17 file(s) remaining\n",
      "Completed 257.4 KiB/7.5 MiB (150.4 KiB/s) with 17 file(s) remaining\n",
      "Completed 513.4 KiB/7.5 MiB (293.5 KiB/s) with 17 file(s) remaining\n",
      "Completed 769.4 KiB/7.5 MiB (433.9 KiB/s) with 17 file(s) remaining\n",
      "Completed 1.0 MiB/7.5 MiB (558.8 KiB/s) with 17 file(s) remaining  \n",
      "Completed 1.3 MiB/7.5 MiB (646.8 KiB/s) with 17 file(s) remaining  \n",
      "Completed 1.5 MiB/7.5 MiB (730.7 KiB/s) with 17 file(s) remaining  \n",
      "Completed 1.5 MiB/7.5 MiB (714.1 KiB/s) with 17 file(s) remaining  \n",
      "download: s3://deutsche-boerse-xetra-pds/2018-06-21/2018-06-21_BINS_XETR16.csv to ..\\..\\..\\data\\deutsche-boerse-xetra-pds\\2018-06-21\\2018-06-21_BINS_XETR16.csv\n",
      "Completed 1.5 MiB/7.5 MiB (714.1 KiB/s) with 16 file(s) remaining\n",
      "Completed 1.8 MiB/7.5 MiB (772.4 KiB/s) with 16 file(s) remaining\n",
      "Completed 2.0 MiB/7.5 MiB (822.4 KiB/s) with 16 file(s) remaining\n",
      "Completed 2.0 MiB/7.5 MiB (803.8 KiB/s) with 16 file(s) remaining\n",
      "download: s3://deutsche-boerse-xetra-pds/2018-06-21/2018-06-21_BINS_XETR17.csv to ..\\..\\..\\data\\deutsche-boerse-xetra-pds\\2018-06-21\\2018-06-21_BINS_XETR17.csv\n",
      "Completed 2.0 MiB/7.5 MiB (803.8 KiB/s) with 15 file(s) remaining\n",
      "Completed 2.3 MiB/7.5 MiB (866.1 KiB/s) with 15 file(s) remaining\n",
      "Completed 2.4 MiB/7.5 MiB (897.2 KiB/s) with 15 file(s) remaining\n",
      "download: s3://deutsche-boerse-xetra-pds/2018-06-21/2018-06-21_BINS_XETR13.csv to ..\\..\\..\\data\\deutsche-boerse-xetra-pds\\2018-06-21\\2018-06-21_BINS_XETR13.csv\n",
      "Completed 2.4 MiB/7.5 MiB (897.2 KiB/s) with 14 file(s) remaining\n",
      "Completed 2.6 MiB/7.5 MiB (961.5 KiB/s) with 14 file(s) remaining\n",
      "Completed 2.9 MiB/7.5 MiB (1.0 MiB/s) with 14 file(s) remaining  \n",
      "Completed 3.1 MiB/7.5 MiB (1.1 MiB/s) with 14 file(s) remaining  \n",
      "Completed 3.1 MiB/7.5 MiB (1.1 MiB/s) with 14 file(s) remaining  \n",
      "download: s3://deutsche-boerse-xetra-pds/2018-06-21/2018-06-21_BINS_XETR18.csv to ..\\..\\..\\data\\deutsche-boerse-xetra-pds\\2018-06-21\\2018-06-21_BINS_XETR18.csv\n",
      "Completed 3.1 MiB/7.5 MiB (1.1 MiB/s) with 13 file(s) remaining\n",
      "Completed 3.3 MiB/7.5 MiB (1.1 MiB/s) with 13 file(s) remaining\n",
      "download: s3://deutsche-boerse-xetra-pds/2018-06-21/2018-06-21_BINS_XETR09.csv to ..\\..\\..\\data\\deutsche-boerse-xetra-pds\\2018-06-21\\2018-06-21_BINS_XETR09.csv\n",
      "Completed 3.3 MiB/7.5 MiB (1.1 MiB/s) with 12 file(s) remaining\n",
      "Completed 3.3 MiB/7.5 MiB (1.1 MiB/s) with 12 file(s) remaining\n",
      "download: s3://deutsche-boerse-xetra-pds/2018-06-21/2018-06-21_BINS_XETR19.csv to ..\\..\\..\\data\\deutsche-boerse-xetra-pds\\2018-06-21\\2018-06-21_BINS_XETR19.csv\n",
      "Completed 3.3 MiB/7.5 MiB (1.1 MiB/s) with 11 file(s) remaining\n",
      "Completed 3.6 MiB/7.5 MiB (1.1 MiB/s) with 11 file(s) remaining\n",
      "Completed 3.8 MiB/7.5 MiB (1.2 MiB/s) with 11 file(s) remaining\n",
      "Completed 4.1 MiB/7.5 MiB (1.3 MiB/s) with 11 file(s) remaining\n",
      "Completed 4.1 MiB/7.5 MiB (1.3 MiB/s) with 11 file(s) remaining\n",
      "download: s3://deutsche-boerse-xetra-pds/2018-06-21/2018-06-21_BINS_XETR12.csv to ..\\..\\..\\data\\deutsche-boerse-xetra-pds\\2018-06-21\\2018-06-21_BINS_XETR12.csv\n",
      "Completed 4.1 MiB/7.5 MiB (1.3 MiB/s) with 10 file(s) remaining\n",
      "Completed 4.1 MiB/7.5 MiB (1.3 MiB/s) with 10 file(s) remaining\n",
      "download: s3://deutsche-boerse-xetra-pds/2018-06-21/2018-06-21_BINS_XETR20.csv to ..\\..\\..\\data\\deutsche-boerse-xetra-pds\\2018-06-21\\2018-06-21_BINS_XETR20.csv\n",
      "Completed 4.1 MiB/7.5 MiB (1.3 MiB/s) with 9 file(s) remaining\n",
      "Completed 4.1 MiB/7.5 MiB (1.2 MiB/s) with 9 file(s) remaining\n",
      "download: s3://deutsche-boerse-xetra-pds/2018-06-21/2018-06-21_BINS_XETR22.csv to ..\\..\\..\\data\\deutsche-boerse-xetra-pds\\2018-06-21\\2018-06-21_BINS_XETR22.csv\n",
      "Completed 4.1 MiB/7.5 MiB (1.2 MiB/s) with 8 file(s) remaining\n",
      "Completed 4.1 MiB/7.5 MiB (1.2 MiB/s) with 8 file(s) remaining\n",
      "download: s3://deutsche-boerse-xetra-pds/2018-06-21/2018-06-21_BINS_XETR21.csv to ..\\..\\..\\data\\deutsche-boerse-xetra-pds\\2018-06-21\\2018-06-21_BINS_XETR21.csv\n",
      "Completed 4.1 MiB/7.5 MiB (1.2 MiB/s) with 7 file(s) remaining\n",
      "Completed 4.3 MiB/7.5 MiB (1.3 MiB/s) with 7 file(s) remaining\n",
      "download: s3://deutsche-boerse-xetra-pds/2018-06-21/2018-06-21_BINS_XETR11.csv to ..\\..\\..\\data\\deutsche-boerse-xetra-pds\\2018-06-21\\2018-06-21_BINS_XETR11.csv\n",
      "Completed 4.3 MiB/7.5 MiB (1.3 MiB/s) with 6 file(s) remaining\n",
      "Completed 4.3 MiB/7.5 MiB (1.3 MiB/s) with 6 file(s) remaining\n",
      "download: s3://deutsche-boerse-xetra-pds/2018-06-21/2018-06-21_BINS_XETR23.csv to ..\\..\\..\\data\\deutsche-boerse-xetra-pds\\2018-06-21\\2018-06-21_BINS_XETR23.csv\n",
      "Completed 4.3 MiB/7.5 MiB (1.3 MiB/s) with 5 file(s) remaining\n",
      "Completed 4.5 MiB/7.5 MiB (1.3 MiB/s) with 5 file(s) remaining\n",
      "Completed 4.8 MiB/7.5 MiB (1.3 MiB/s) with 5 file(s) remaining\n",
      "Completed 5.0 MiB/7.5 MiB (1.4 MiB/s) with 5 file(s) remaining\n",
      "Completed 5.3 MiB/7.5 MiB (1.5 MiB/s) with 5 file(s) remaining\n",
      "Completed 5.3 MiB/7.5 MiB (1.5 MiB/s) with 5 file(s) remaining\n",
      "download: s3://deutsche-boerse-xetra-pds/2018-06-21/2018-06-21_BINS_XETR10.csv to ..\\..\\..\\data\\deutsche-boerse-xetra-pds\\2018-06-21\\2018-06-21_BINS_XETR10.csv\n",
      "Completed 5.3 MiB/7.5 MiB (1.5 MiB/s) with 4 file(s) remaining\n",
      "Completed 5.6 MiB/7.5 MiB (1.5 MiB/s) with 4 file(s) remaining\n",
      "Completed 5.7 MiB/7.5 MiB (1.5 MiB/s) with 4 file(s) remaining\n",
      "Completed 5.9 MiB/7.5 MiB (1.5 MiB/s) with 4 file(s) remaining\n",
      "download: s3://deutsche-boerse-xetra-pds/2018-06-21/2018-06-21_BINS_XETR14.csv to ..\\..\\..\\data\\deutsche-boerse-xetra-pds\\2018-06-21\\2018-06-21_BINS_XETR14.csv\n",
      "Completed 5.9 MiB/7.5 MiB (1.5 MiB/s) with 3 file(s) remaining\n",
      "Completed 6.1 MiB/7.5 MiB (1.5 MiB/s) with 3 file(s) remaining\n",
      "download: s3://deutsche-boerse-xetra-pds/2018-06-21/2018-06-21_BINS_XETR15.csv to ..\\..\\..\\data\\deutsche-boerse-xetra-pds\\2018-06-21\\2018-06-21_BINS_XETR15.csv\n",
      "Completed 6.1 MiB/7.5 MiB (1.5 MiB/s) with 2 file(s) remaining\n",
      "Completed 6.3 MiB/7.5 MiB (1.5 MiB/s) with 2 file(s) remaining\n",
      "Completed 6.6 MiB/7.5 MiB (1.5 MiB/s) with 2 file(s) remaining\n",
      "Completed 6.7 MiB/7.5 MiB (1.4 MiB/s) with 2 file(s) remaining\n",
      "download: s3://deutsche-boerse-xetra-pds/2018-06-21/2018-06-21_BINS_XETR07.csv to ..\\..\\..\\data\\deutsche-boerse-xetra-pds\\2018-06-21\\2018-06-21_BINS_XETR07.csv\n",
      "Completed 6.7 MiB/7.5 MiB (1.4 MiB/s) with 1 file(s) remaining\n",
      "Completed 6.9 MiB/7.5 MiB (740.2 KiB/s) with 1 file(s) remaining\n",
      "Completed 7.2 MiB/7.5 MiB (756.1 KiB/s) with 1 file(s) remaining\n",
      "Completed 7.4 MiB/7.5 MiB (773.9 KiB/s) with 1 file(s) remaining\n",
      "Completed 7.5 MiB/7.5 MiB (778.6 KiB/s) with 1 file(s) remaining\n",
      "download: s3://deutsche-boerse-xetra-pds/2018-06-21/2018-06-21_BINS_XETR08.csv to ..\\..\\..\\data\\deutsche-boerse-xetra-pds\\2018-06-21\\2018-06-21_BINS_XETR08.csv\n"
     ]
    },
    {
     "name": "stderr",
     "output_type": "stream",
     "text": [
      "'ls' is not recognized as an internal or external command,\n",
      "operable program or batch file.\n"
     ]
    }
   ],
   "source": [
    "! mkdir -p /data/deutsche-boerse-xetra-pds/{date}\n",
    "! aws s3 sync s3://deutsche-boerse-xetra-pds/{date} /data/deutsche-boerse-xetra-pds/{date} --no-sign-request"
   ]
  },
  {
   "cell_type": "code",
   "execution_count": null,
   "metadata": {
    "collapsed": true
   },
   "outputs": [],
   "source": []
  }
 ],
 "metadata": {
  "kernelspec": {
   "display_name": "Python 3",
   "language": "python",
   "name": "python3"
  },
  "language_info": {
   "codemirror_mode": {
    "name": "ipython",
    "version": 3
   },
   "file_extension": ".py",
   "mimetype": "text/x-python",
   "name": "python",
   "nbconvert_exporter": "python",
   "pygments_lexer": "ipython3",
   "version": "3.6.1"
  }
 },
 "nbformat": 4,
 "nbformat_minor": 2
}
